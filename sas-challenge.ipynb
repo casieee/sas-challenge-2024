{
 "cells": [
  {
   "cell_type": "markdown",
   "id": "77e93920",
   "metadata": {},
   "source": [
    "# IMPORT LIBRARIES"
   ]
  },
  {
   "cell_type": "code",
   "execution_count": 54,
   "id": "a1f17dca",
   "metadata": {},
   "outputs": [],
   "source": [
    "import pandas as pd\n",
    "import numpy as np\n",
    "import random\n",
    "import seaborn as sns\n",
    "from scipy.stats import ttest_ind\n",
    "import matplotlib.pyplot as plt\n",
    "import warnings\n",
    "from sklearn.preprocessing import LabelEncoder, OneHotEncoder, StandardScaler\n",
    "from sklearn.model_selection import train_test_split\n",
    "from sklearn.svm import SVC\n",
    "from sklearn.metrics import classification_report, accuracy_score\n",
    "from sklearn.model_selection import cross_val_score, GridSearchCV"
   ]
  },
  {
   "cell_type": "markdown",
   "id": "974da7a4",
   "metadata": {},
   "source": [
    "# LOAD DATASET"
   ]
  },
  {
   "cell_type": "code",
   "execution_count": 55,
   "id": "70aad82b",
   "metadata": {},
   "outputs": [
    {
     "data": {
      "application/vnd.microsoft.datawrangler.viewer.v0+json": {
       "columns": [
        {
         "name": "index",
         "rawType": "int64",
         "type": "integer"
        },
        {
         "name": "id",
         "rawType": "int64",
         "type": "integer"
        },
        {
         "name": "default",
         "rawType": "int64",
         "type": "integer"
        },
        {
         "name": "loan_amount",
         "rawType": "int64",
         "type": "integer"
        },
        {
         "name": "mortgage_amount",
         "rawType": "float64",
         "type": "float"
        },
        {
         "name": "property_value",
         "rawType": "float64",
         "type": "float"
        },
        {
         "name": "loan_reason",
         "rawType": "object",
         "type": "string"
        },
        {
         "name": "occupation",
         "rawType": "object",
         "type": "unknown"
        },
        {
         "name": "occupation_length",
         "rawType": "float64",
         "type": "float"
        },
        {
         "name": "derogatory_reports",
         "rawType": "float64",
         "type": "float"
        },
        {
         "name": "late_payments",
         "rawType": "float64",
         "type": "float"
        },
        {
         "name": "oldest_credit_line",
         "rawType": "float64",
         "type": "float"
        },
        {
         "name": "recent_credit",
         "rawType": "float64",
         "type": "float"
        },
        {
         "name": "credit_number",
         "rawType": "float64",
         "type": "float"
        },
        {
         "name": "ratio",
         "rawType": "float64",
         "type": "float"
        }
       ],
       "ref": "f191fc54-0351-43a8-8d63-6953f8dd198a",
       "rows": [
        [
         "0",
         "16537",
         "0",
         "20900",
         "58299.0",
         "78684.0",
         "DebtCon",
         null,
         "3.0",
         "0.0",
         "0.0",
         "98.66282045",
         "0.0",
         "16.0",
         "38.97200388"
        ],
        [
         "1",
         "14800",
         "0",
         "17400",
         "56111.0",
         "114521.0",
         "HomeImp",
         "Office",
         "2.0",
         null,
         "2.0",
         "154.8555239",
         "1.0",
         "24.0",
         "38.69508356"
        ],
        [
         "2",
         "11317",
         "0",
         "8700",
         "57254.0",
         "86883.0",
         "HomeImp",
         "Other",
         "16.0",
         "0.0",
         "0.0",
         "172.1665627",
         "0.0",
         "28.0",
         "25.04343675"
        ],
        [
         "3",
         "13023",
         "0",
         "6000",
         "69876.0",
         "94394.07",
         "HomeImp",
         "Other",
         "0.0",
         "0.0",
         "1.0",
         "179.5666667",
         "0.0",
         "32.0",
         null
        ],
        [
         "4",
         "11652",
         "0",
         "9700",
         "75566.0",
         "92066.0",
         "DebtCon",
         "Office",
         "14.0",
         "0.0",
         "0.0",
         "94.98792219",
         "0.0",
         "8.0",
         "25.16118347"
        ]
       ],
       "shape": {
        "columns": 14,
        "rows": 5
       }
      },
      "text/html": [
       "<div>\n",
       "<style scoped>\n",
       "    .dataframe tbody tr th:only-of-type {\n",
       "        vertical-align: middle;\n",
       "    }\n",
       "\n",
       "    .dataframe tbody tr th {\n",
       "        vertical-align: top;\n",
       "    }\n",
       "\n",
       "    .dataframe thead th {\n",
       "        text-align: right;\n",
       "    }\n",
       "</style>\n",
       "<table border=\"1\" class=\"dataframe\">\n",
       "  <thead>\n",
       "    <tr style=\"text-align: right;\">\n",
       "      <th></th>\n",
       "      <th>id</th>\n",
       "      <th>default</th>\n",
       "      <th>loan_amount</th>\n",
       "      <th>mortgage_amount</th>\n",
       "      <th>property_value</th>\n",
       "      <th>loan_reason</th>\n",
       "      <th>occupation</th>\n",
       "      <th>occupation_length</th>\n",
       "      <th>derogatory_reports</th>\n",
       "      <th>late_payments</th>\n",
       "      <th>oldest_credit_line</th>\n",
       "      <th>recent_credit</th>\n",
       "      <th>credit_number</th>\n",
       "      <th>ratio</th>\n",
       "    </tr>\n",
       "  </thead>\n",
       "  <tbody>\n",
       "    <tr>\n",
       "      <th>0</th>\n",
       "      <td>16537</td>\n",
       "      <td>0</td>\n",
       "      <td>20900</td>\n",
       "      <td>58299.0</td>\n",
       "      <td>78684.00</td>\n",
       "      <td>DebtCon</td>\n",
       "      <td>NaN</td>\n",
       "      <td>3.0</td>\n",
       "      <td>0.0</td>\n",
       "      <td>0.0</td>\n",
       "      <td>98.662820</td>\n",
       "      <td>0.0</td>\n",
       "      <td>16.0</td>\n",
       "      <td>38.972004</td>\n",
       "    </tr>\n",
       "    <tr>\n",
       "      <th>1</th>\n",
       "      <td>14800</td>\n",
       "      <td>0</td>\n",
       "      <td>17400</td>\n",
       "      <td>56111.0</td>\n",
       "      <td>114521.00</td>\n",
       "      <td>HomeImp</td>\n",
       "      <td>Office</td>\n",
       "      <td>2.0</td>\n",
       "      <td>NaN</td>\n",
       "      <td>2.0</td>\n",
       "      <td>154.855524</td>\n",
       "      <td>1.0</td>\n",
       "      <td>24.0</td>\n",
       "      <td>38.695084</td>\n",
       "    </tr>\n",
       "    <tr>\n",
       "      <th>2</th>\n",
       "      <td>11317</td>\n",
       "      <td>0</td>\n",
       "      <td>8700</td>\n",
       "      <td>57254.0</td>\n",
       "      <td>86883.00</td>\n",
       "      <td>HomeImp</td>\n",
       "      <td>Other</td>\n",
       "      <td>16.0</td>\n",
       "      <td>0.0</td>\n",
       "      <td>0.0</td>\n",
       "      <td>172.166563</td>\n",
       "      <td>0.0</td>\n",
       "      <td>28.0</td>\n",
       "      <td>25.043437</td>\n",
       "    </tr>\n",
       "    <tr>\n",
       "      <th>3</th>\n",
       "      <td>13023</td>\n",
       "      <td>0</td>\n",
       "      <td>6000</td>\n",
       "      <td>69876.0</td>\n",
       "      <td>94394.07</td>\n",
       "      <td>HomeImp</td>\n",
       "      <td>Other</td>\n",
       "      <td>0.0</td>\n",
       "      <td>0.0</td>\n",
       "      <td>1.0</td>\n",
       "      <td>179.566667</td>\n",
       "      <td>0.0</td>\n",
       "      <td>32.0</td>\n",
       "      <td>NaN</td>\n",
       "    </tr>\n",
       "    <tr>\n",
       "      <th>4</th>\n",
       "      <td>11652</td>\n",
       "      <td>0</td>\n",
       "      <td>9700</td>\n",
       "      <td>75566.0</td>\n",
       "      <td>92066.00</td>\n",
       "      <td>DebtCon</td>\n",
       "      <td>Office</td>\n",
       "      <td>14.0</td>\n",
       "      <td>0.0</td>\n",
       "      <td>0.0</td>\n",
       "      <td>94.987922</td>\n",
       "      <td>0.0</td>\n",
       "      <td>8.0</td>\n",
       "      <td>25.161183</td>\n",
       "    </tr>\n",
       "  </tbody>\n",
       "</table>\n",
       "</div>"
      ],
      "text/plain": [
       "      id  default  loan_amount  mortgage_amount  property_value loan_reason  \\\n",
       "0  16537        0        20900          58299.0        78684.00     DebtCon   \n",
       "1  14800        0        17400          56111.0       114521.00     HomeImp   \n",
       "2  11317        0         8700          57254.0        86883.00     HomeImp   \n",
       "3  13023        0         6000          69876.0        94394.07     HomeImp   \n",
       "4  11652        0         9700          75566.0        92066.00     DebtCon   \n",
       "\n",
       "  occupation  occupation_length  derogatory_reports  late_payments  \\\n",
       "0        NaN                3.0                 0.0            0.0   \n",
       "1     Office                2.0                 NaN            2.0   \n",
       "2      Other               16.0                 0.0            0.0   \n",
       "3      Other                0.0                 0.0            1.0   \n",
       "4     Office               14.0                 0.0            0.0   \n",
       "\n",
       "   oldest_credit_line  recent_credit  credit_number      ratio  \n",
       "0           98.662820            0.0           16.0  38.972004  \n",
       "1          154.855524            1.0           24.0  38.695084  \n",
       "2          172.166563            0.0           28.0  25.043437  \n",
       "3          179.566667            0.0           32.0        NaN  \n",
       "4           94.987922            0.0            8.0  25.161183  "
      ]
     },
     "execution_count": 55,
     "metadata": {},
     "output_type": "execute_result"
    }
   ],
   "source": [
    "df = pd.read_csv('hmeq_train.csv')\n",
    "df.head(5)"
   ]
  },
  {
   "cell_type": "markdown",
   "id": "a30425e9",
   "metadata": {},
   "source": [
    "# EDA"
   ]
  },
  {
   "cell_type": "markdown",
   "id": "e338681c",
   "metadata": {},
   "source": [
    "## Understand dataset structures"
   ]
  },
  {
   "cell_type": "code",
   "execution_count": 56,
   "id": "81116228",
   "metadata": {},
   "outputs": [
    {
     "name": "stdout",
     "output_type": "stream",
     "text": [
      "<class 'pandas.core.frame.DataFrame'>\n",
      "RangeIndex: 5198 entries, 0 to 5197\n",
      "Data columns (total 14 columns):\n",
      " #   Column              Non-Null Count  Dtype  \n",
      "---  ------              --------------  -----  \n",
      " 0   id                  5198 non-null   int64  \n",
      " 1   default             5198 non-null   int64  \n",
      " 2   loan_amount         5198 non-null   int64  \n",
      " 3   mortgage_amount     4747 non-null   float64\n",
      " 4   property_value      5103 non-null   float64\n",
      " 5   loan_reason         4975 non-null   object \n",
      " 6   occupation          4957 non-null   object \n",
      " 7   occupation_length   4748 non-null   float64\n",
      " 8   derogatory_reports  4579 non-null   float64\n",
      " 9   late_payments       4695 non-null   float64\n",
      " 10  oldest_credit_line  4931 non-null   float64\n",
      " 11  recent_credit       4762 non-null   float64\n",
      " 12  credit_number       5002 non-null   float64\n",
      " 13  ratio               4085 non-null   float64\n",
      "dtypes: float64(9), int64(3), object(2)\n",
      "memory usage: 568.7+ KB\n"
     ]
    }
   ],
   "source": [
    "df.info()"
   ]
  },
  {
   "cell_type": "code",
   "execution_count": 57,
   "id": "0efc05a9",
   "metadata": {},
   "outputs": [
    {
     "data": {
      "text/plain": [
       "Index(['id', 'default', 'loan_amount', 'mortgage_amount', 'property_value',\n",
       "       'loan_reason', 'occupation', 'occupation_length', 'derogatory_reports',\n",
       "       'late_payments', 'oldest_credit_line', 'recent_credit', 'credit_number',\n",
       "       'ratio'],\n",
       "      dtype='object')"
      ]
     },
     "execution_count": 57,
     "metadata": {},
     "output_type": "execute_result"
    }
   ],
   "source": [
    "df.columns"
   ]
  },
  {
   "cell_type": "markdown",
   "id": "6c93bea5",
   "metadata": {},
   "source": [
    "- Here we have 14 variables with 5198 observations in total.  \n",
    "- Target variable: 'default'\n",
    "- Numerical variables: 'loan_amount', 'mortgage_amount', 'property_value', 'occupation_length', \n",
    "          'derogatory_reports', 'late_payments', 'oldest_credit_line', 'recent_credit', \n",
    "          'credit_number', 'ratio'  \n",
    "- Categorical variables: 'loan_reason', 'occupation'"
   ]
  },
  {
   "cell_type": "code",
   "execution_count": 58,
   "id": "4773b9d2",
   "metadata": {},
   "outputs": [
    {
     "data": {
      "image/png": "[encoded data removed]",
      "text/plain": [
       "<Figure size 800x600 with 1 Axes>"
      ]
     },
     "metadata": {},
     "output_type": "display_data"
    }
   ],
   "source": [
    "plt.figure(figsize=(8,6))\n",
    "sns.countplot(x = 'default', data = df)\n",
    "plt.title('Distribution of Default Status')\n",
    "plt.xlabel('Default Status')\n",
    "plt.ylabel('Count')\n",
    "plt.show()"
   ]
  },
  {
   "cell_type": "code",
   "execution_count": 59,
   "id": "7ad2fc7b",
   "metadata": {},
   "outputs": [
    {
     "data": {
      "application/vnd.microsoft.datawrangler.viewer.v0+json": {
       "columns": [
        {
         "name": "index",
         "rawType": "object",
         "type": "string"
        },
        {
         "name": "id",
         "rawType": "float64",
         "type": "float"
        },
        {
         "name": "default",
         "rawType": "float64",
         "type": "float"
        },
        {
         "name": "loan_amount",
         "rawType": "float64",
         "type": "float"
        },
        {
         "name": "mortgage_amount",
         "rawType": "float64",
         "type": "float"
        },
        {
         "name": "property_value",
         "rawType": "float64",
         "type": "float"
        },
        {
         "name": "occupation_length",
         "rawType": "float64",
         "type": "float"
        },
        {
         "name": "derogatory_reports",
         "rawType": "float64",
         "type": "float"
        },
        {
         "name": "late_payments",
         "rawType": "float64",
         "type": "float"
        },
        {
         "name": "oldest_credit_line",
         "rawType": "float64",
         "type": "float"
        },
        {
         "name": "recent_credit",
         "rawType": "float64",
         "type": "float"
        },
        {
         "name": "credit_number",
         "rawType": "float64",
         "type": "float"
        },
        {
         "name": "ratio",
         "rawType": "float64",
         "type": "float"
        }
       ],
       "ref": "09ecb453-9333-40fe-a1eb-a2b14887fb08",
       "rows": [
        [
         "count",
         "5198.0",
         "5198.0",
         "5198.0",
         "4747.0",
         "5103.0",
         "4748.0",
         "4579.0",
         "4695.0",
         "4931.0",
         "4762.0",
         "5002.0",
         "4085.0"
        ],
        [
         "mean",
         "13979.209311273567",
         "0.20046171604463256",
         "18701.923816852635",
         "73830.99226248157",
         "101741.68145012738",
         "8.91591196293176",
         "0.25027298536798426",
         "0.4417465388711395",
         "179.34125325763782",
         "1.1757664846703066",
         "21.33406637345062",
         "33.812988791534636"
        ],
        [
         "std",
         "1720.084496599361",
         "0.4003843861868772",
         "11319.689847753865",
         "44312.70422234773",
         "56597.29827557309",
         "7.5518006835859515",
         "0.8375194759533724",
         "1.1176831061883301",
         "84.71129877993869",
         "1.715043552252502",
         "10.180620119265376",
         "8.666730554193332"
        ],
        [
         "min",
         "11001.0",
         "0.0",
         "1100.0",
         "2619.0",
         "8000.0",
         "0.0",
         "0.0",
         "0.0",
         "0.0",
         "0.0",
         "0.0",
         "0.524499215"
        ],
        [
         "25%",
         "12490.25",
         "0.0",
         "11100.0",
         "46361.0",
         "66265.5",
         "3.0",
         "0.0",
         "0.0",
         "114.90647949999999",
         "0.0",
         "14.25",
         "29.20040034"
        ],
        [
         "50%",
         "13984.5",
         "0.0",
         "16400.0",
         "65205.0",
         "89553.0",
         "7.0",
         "0.0",
         "0.0",
         "173.5744163",
         "1.0",
         "20.0",
         "34.88924173"
        ],
        [
         "75%",
         "15467.75",
         "0.0",
         "23300.0",
         "91701.5",
         "120000.0",
         "13.0",
         "0.0",
         "0.0",
         "231.15268915000001",
         "2.0",
         "26.0",
         "39.00292833"
        ],
        [
         "max",
         "16960.0",
         "1.0",
         "89900.0",
         "399550.0",
         "854114.0",
         "41.0",
         "10.0",
         "15.0",
         "1168.233561",
         "17.0",
         "71.0",
         "203.3121487"
        ]
       ],
       "shape": {
        "columns": 12,
        "rows": 8
       }
      },
      "text/html": [
       "<div>\n",
       "<style scoped>\n",
       "    .dataframe tbody tr th:only-of-type {\n",
       "        vertical-align: middle;\n",
       "    }\n",
       "\n",
       "    .dataframe tbody tr th {\n",
       "        vertical-align: top;\n",
       "    }\n",
       "\n",
       "    .dataframe thead th {\n",
       "        text-align: right;\n",
       "    }\n",
       "</style>\n",
       "<table border=\"1\" class=\"dataframe\">\n",
       "  <thead>\n",
       "    <tr style=\"text-align: right;\">\n",
       "      <th></th>\n",
       "      <th>id</th>\n",
       "      <th>default</th>\n",
       "      <th>loan_amount</th>\n",
       "      <th>mortgage_amount</th>\n",
       "      <th>property_value</th>\n",
       "      <th>occupation_length</th>\n",
       "      <th>derogatory_reports</th>\n",
       "      <th>late_payments</th>\n",
       "      <th>oldest_credit_line</th>\n",
       "      <th>recent_credit</th>\n",
       "      <th>credit_number</th>\n",
       "      <th>ratio</th>\n",
       "    </tr>\n",
       "  </thead>\n",
       "  <tbody>\n",
       "    <tr>\n",
       "      <th>count</th>\n",
       "      <td>5198.000000</td>\n",
       "      <td>5198.000000</td>\n",
       "      <td>5198.000000</td>\n",
       "      <td>4747.000000</td>\n",
       "      <td>5103.000000</td>\n",
       "      <td>4748.000000</td>\n",
       "      <td>4579.000000</td>\n",
       "      <td>4695.000000</td>\n",
       "      <td>4931.000000</td>\n",
       "      <td>4762.000000</td>\n",
       "      <td>5002.000000</td>\n",
       "      <td>4085.000000</td>\n",
       "    </tr>\n",
       "    <tr>\n",
       "      <th>mean</th>\n",
       "      <td>13979.209311</td>\n",
       "      <td>0.200462</td>\n",
       "      <td>18701.923817</td>\n",
       "      <td>73830.992262</td>\n",
       "      <td>101741.681450</td>\n",
       "      <td>8.915912</td>\n",
       "      <td>0.250273</td>\n",
       "      <td>0.441747</td>\n",
       "      <td>179.341253</td>\n",
       "      <td>1.175766</td>\n",
       "      <td>21.334066</td>\n",
       "      <td>33.812989</td>\n",
       "    </tr>\n",
       "    <tr>\n",
       "      <th>std</th>\n",
       "      <td>1720.084497</td>\n",
       "      <td>0.400384</td>\n",
       "      <td>11319.689848</td>\n",
       "      <td>44312.704222</td>\n",
       "      <td>56597.298276</td>\n",
       "      <td>7.551801</td>\n",
       "      <td>0.837519</td>\n",
       "      <td>1.117683</td>\n",
       "      <td>84.711299</td>\n",
       "      <td>1.715044</td>\n",
       "      <td>10.180620</td>\n",
       "      <td>8.666731</td>\n",
       "    </tr>\n",
       "    <tr>\n",
       "      <th>min</th>\n",
       "      <td>11001.000000</td>\n",
       "      <td>0.000000</td>\n",
       "      <td>1100.000000</td>\n",
       "      <td>2619.000000</td>\n",
       "      <td>8000.000000</td>\n",
       "      <td>0.000000</td>\n",
       "      <td>0.000000</td>\n",
       "      <td>0.000000</td>\n",
       "      <td>0.000000</td>\n",
       "      <td>0.000000</td>\n",
       "      <td>0.000000</td>\n",
       "      <td>0.524499</td>\n",
       "    </tr>\n",
       "    <tr>\n",
       "      <th>25%</th>\n",
       "      <td>12490.250000</td>\n",
       "      <td>0.000000</td>\n",
       "      <td>11100.000000</td>\n",
       "      <td>46361.000000</td>\n",
       "      <td>66265.500000</td>\n",
       "      <td>3.000000</td>\n",
       "      <td>0.000000</td>\n",
       "      <td>0.000000</td>\n",
       "      <td>114.906479</td>\n",
       "      <td>0.000000</td>\n",
       "      <td>14.250000</td>\n",
       "      <td>29.200400</td>\n",
       "    </tr>\n",
       "    <tr>\n",
       "      <th>50%</th>\n",
       "      <td>13984.500000</td>\n",
       "      <td>0.000000</td>\n",
       "      <td>16400.000000</td>\n",
       "      <td>65205.000000</td>\n",
       "      <td>89553.000000</td>\n",
       "      <td>7.000000</td>\n",
       "      <td>0.000000</td>\n",
       "      <td>0.000000</td>\n",
       "      <td>173.574416</td>\n",
       "      <td>1.000000</td>\n",
       "      <td>20.000000</td>\n",
       "      <td>34.889242</td>\n",
       "    </tr>\n",
       "    <tr>\n",
       "      <th>75%</th>\n",
       "      <td>15467.750000</td>\n",
       "      <td>0.000000</td>\n",
       "      <td>23300.000000</td>\n",
       "      <td>91701.500000</td>\n",
       "      <td>120000.000000</td>\n",
       "      <td>13.000000</td>\n",
       "      <td>0.000000</td>\n",
       "      <td>0.000000</td>\n",
       "      <td>231.152689</td>\n",
       "      <td>2.000000</td>\n",
       "      <td>26.000000</td>\n",
       "      <td>39.002928</td>\n",
       "    </tr>\n",
       "    <tr>\n",
       "      <th>max</th>\n",
       "      <td>16960.000000</td>\n",
       "      <td>1.000000</td>\n",
       "      <td>89900.000000</td>\n",
       "      <td>399550.000000</td>\n",
       "      <td>854114.000000</td>\n",
       "      <td>41.000000</td>\n",
       "      <td>10.000000</td>\n",
       "      <td>15.000000</td>\n",
       "      <td>1168.233561</td>\n",
       "      <td>17.000000</td>\n",
       "      <td>71.000000</td>\n",
       "      <td>203.312149</td>\n",
       "    </tr>\n",
       "  </tbody>\n",
       "</table>\n",
       "</div>"
      ],
      "text/plain": [
       "                 id      default   loan_amount  mortgage_amount  \\\n",
       "count   5198.000000  5198.000000   5198.000000      4747.000000   \n",
       "mean   13979.209311     0.200462  18701.923817     73830.992262   \n",
       "std     1720.084497     0.400384  11319.689848     44312.704222   \n",
       "min    11001.000000     0.000000   1100.000000      2619.000000   \n",
       "25%    12490.250000     0.000000  11100.000000     46361.000000   \n",
       "50%    13984.500000     0.000000  16400.000000     65205.000000   \n",
       "75%    15467.750000     0.000000  23300.000000     91701.500000   \n",
       "max    16960.000000     1.000000  89900.000000    399550.000000   \n",
       "\n",
       "       property_value  occupation_length  derogatory_reports  late_payments  \\\n",
       "count     5103.000000        4748.000000         4579.000000    4695.000000   \n",
       "mean    101741.681450           8.915912            0.250273       0.441747   \n",
       "std      56597.298276           7.551801            0.837519       1.117683   \n",
       "min       8000.000000           0.000000            0.000000       0.000000   \n",
       "25%      66265.500000           3.000000            0.000000       0.000000   \n",
       "50%      89553.000000           7.000000            0.000000       0.000000   \n",
       "75%     120000.000000          13.000000            0.000000       0.000000   \n",
       "max     854114.000000          41.000000           10.000000      15.000000   \n",
       "\n",
       "       oldest_credit_line  recent_credit  credit_number        ratio  \n",
       "count         4931.000000    4762.000000    5002.000000  4085.000000  \n",
       "mean           179.341253       1.175766      21.334066    33.812989  \n",
       "std             84.711299       1.715044      10.180620     8.666731  \n",
       "min              0.000000       0.000000       0.000000     0.524499  \n",
       "25%            114.906479       0.000000      14.250000    29.200400  \n",
       "50%            173.574416       1.000000      20.000000    34.889242  \n",
       "75%            231.152689       2.000000      26.000000    39.002928  \n",
       "max           1168.233561      17.000000      71.000000   203.312149  "
      ]
     },
     "execution_count": 59,
     "metadata": {},
     "output_type": "execute_result"
    }
   ],
   "source": [
    "df.describe()"
   ]
  },
  {
   "cell_type": "code",
   "execution_count": 60,
   "id": "7edd5d3a",
   "metadata": {},
   "outputs": [],
   "source": [
    "num_col = df[['loan_amount', 'mortgage_amount', 'property_value', 'occupation_length', \n",
    "          'derogatory_reports', 'late_payments', 'oldest_credit_line', 'recent_credit', \n",
    "          'credit_number', 'ratio']]\n",
    "categorical_col = df[['loan_reason', 'occupation']]"
   ]
  },
  {
   "cell_type": "markdown",
   "id": "28aea2ad",
   "metadata": {},
   "source": [
    "## Check for missing values and duplicates"
   ]
  },
  {
   "cell_type": "code",
   "execution_count": 62,
   "id": "2f70422a",
   "metadata": {},
   "outputs": [
    {
     "data": {
      "text/plain": [
       "(5198, 14)"
      ]
     },
     "execution_count": 62,
     "metadata": {},
     "output_type": "execute_result"
    }
   ],
   "source": [
    "df.shape"
   ]
  },
  {
   "cell_type": "code",
   "execution_count": 63,
   "id": "5d965857",
   "metadata": {},
   "outputs": [
    {
     "data": {
      "application/vnd.microsoft.datawrangler.viewer.v0+json": {
       "columns": [
        {
         "name": "index",
         "rawType": "object",
         "type": "string"
        },
        {
         "name": "0",
         "rawType": "int64",
         "type": "integer"
        }
       ],
       "ref": "6acde67f-5f09-40a3-8cc9-15a34d8ee0f8",
       "rows": [
        [
         "id",
         "0"
        ],
        [
         "default",
         "0"
        ],
        [
         "loan_amount",
         "0"
        ],
        [
         "mortgage_amount",
         "451"
        ],
        [
         "property_value",
         "95"
        ],
        [
         "loan_reason",
         "223"
        ],
        [
         "occupation",
         "241"
        ],
        [
         "occupation_length",
         "450"
        ],
        [
         "derogatory_reports",
         "619"
        ],
        [
         "late_payments",
         "503"
        ],
        [
         "oldest_credit_line",
         "267"
        ],
        [
         "recent_credit",
         "436"
        ],
        [
         "credit_number",
         "196"
        ],
        [
         "ratio",
         "1113"
        ]
       ],
       "shape": {
        "columns": 1,
        "rows": 14
       }
      },
      "text/plain": [
       "id                       0\n",
       "default                  0\n",
       "loan_amount              0\n",
       "mortgage_amount        451\n",
       "property_value          95\n",
       "loan_reason            223\n",
       "occupation             241\n",
       "occupation_length      450\n",
       "derogatory_reports     619\n",
       "late_payments          503\n",
       "oldest_credit_line     267\n",
       "recent_credit          436\n",
       "credit_number          196\n",
       "ratio                 1113\n",
       "dtype: int64"
      ]
     },
     "execution_count": 63,
     "metadata": {},
     "output_type": "execute_result"
    }
   ],
   "source": [
    "df.isna().sum()"
   ]
  },
  {
   "cell_type": "code",
   "execution_count": 64,
   "id": "b6e32435",
   "metadata": {},
   "outputs": [
    {
     "data": {
      "text/plain": [
       "0"
      ]
     },
     "execution_count": 64,
     "metadata": {},
     "output_type": "execute_result"
    }
   ],
   "source": [
    "df.duplicated().sum()"
   ]
  },
  {
   "cell_type": "markdown",
   "id": "dcc275c0",
   "metadata": {},
   "source": [
    "It appears that our dataset contains a lot of missing values for the majority of variables. I'll visualize this to have a clearer view"
   ]
  },
  {
   "cell_type": "markdown",
   "id": "681ba60c",
   "metadata": {},
   "source": [
    "### Visualizing missing values"
   ]
  },
  {
   "cell_type": "code",
   "execution_count": 65,
   "id": "8eda14e5",
   "metadata": {},
   "outputs": [
    {
     "data": {
      "image/png": "[encoded data removed]",
      "text/plain": [
       "<Figure size 1200x600 with 1 Axes>"
      ]
     },
     "metadata": {},
     "output_type": "display_data"
    }
   ],
   "source": [
    "missing_counts = df.isna().sum()\n",
    "missing_counts = pd.DataFrame({\n",
    "     'Variable': missing_counts.index,\n",
    "     'Missing count': missing_counts.values\n",
    "})\n",
    "\n",
    "plt.figure(figsize=(12,6))\n",
    "sns.barplot(x = 'Variable',\n",
    "            y = 'Missing count',\n",
    "            data= missing_counts\n",
    "            )\n",
    "plt.xticks(rotation = 45)\n",
    "plt.ylabel('Number of missing values')\n",
    "plt.title('Missing Values per Column')\n",
    "plt.show()"
   ]
  },
  {
   "cell_type": "markdown",
   "id": "58bda45f",
   "metadata": {},
   "source": [
    "## Bivariate Analysis"
   ]
  },
  {
   "cell_type": "markdown",
   "id": "5bd665eb",
   "metadata": {},
   "source": [
    "### Correlation"
   ]
  },
  {
   "cell_type": "code",
   "execution_count": 66,
   "id": "526cefaf",
   "metadata": {},
   "outputs": [
    {
     "data": {
      "image/png": "[encoded data removed]",
      "text/plain": [
       "<Figure size 1000x800 with 2 Axes>"
      ]
     },
     "metadata": {},
     "output_type": "display_data"
    }
   ],
   "source": [
    "corr = df.corr(numeric_only=True)\n",
    "plt.figure(figsize=(10,8))\n",
    "sns.heatmap(corr, annot=True, cmap = 'coolwarm', center=0)\n",
    "plt.title('Correlation between Numerical Variables')\n",
    "plt.show()"
   ]
  },
  {
   "cell_type": "code",
   "execution_count": 67,
   "id": "0e47c9e9",
   "metadata": {},
   "outputs": [
    {
     "data": {
      "application/vnd.microsoft.datawrangler.viewer.v0+json": {
       "columns": [
        {
         "name": "index",
         "rawType": "int64",
         "type": "integer"
        },
        {
         "name": "Feature1",
         "rawType": "object",
         "type": "string"
        },
        {
         "name": "Feature2",
         "rawType": "object",
         "type": "string"
        },
        {
         "name": "Correlation",
         "rawType": "float64",
         "type": "float"
        }
       ],
       "ref": "74571100-0404-46be-bd51-116690ac1921",
       "rows": [
        [
         "40",
         "mortgage_amount",
         "property_value",
         "0.872876069724307"
        ],
        [
         "19",
         "default",
         "late_payments",
         "0.3490778986882016"
        ],
        [
         "28",
         "loan_amount",
         "property_value",
         "0.3379072004100847"
        ],
        [
         "46",
         "mortgage_amount",
         "credit_number",
         "0.32495785792628556"
        ],
        [
         "18",
         "default",
         "derogatory_reports",
         "0.27334885323665037"
        ],
        [
         "58",
         "property_value",
         "credit_number",
         "0.26964265066316406"
        ],
        [
         "106",
         "oldest_credit_line",
         "credit_number",
         "0.24928038342323705"
        ],
        [
         "27",
         "loan_amount",
         "mortgage_amount",
         "0.2311251074368865"
        ],
        [
         "79",
         "derogatory_reports",
         "late_payments",
         "0.21452972670423454"
        ],
        [
         "68",
         "occupation_length",
         "oldest_credit_line",
         "0.20732506991758382"
        ],
        [
         "23",
         "default",
         "ratio",
         "0.2028737986463961"
        ],
        [
         "131",
         "credit_number",
         "ratio",
         "0.17981121117194404"
        ],
        [
         "56",
         "property_value",
         "oldest_credit_line",
         "0.1760419486075328"
        ],
        [
         "21",
         "default",
         "recent_credit",
         "0.17038813046655946"
        ],
        [
         "81",
         "derogatory_reports",
         "recent_credit",
         "0.16692467775785885"
        ],
        [
         "94",
         "late_payments",
         "credit_number",
         "0.16061078810433538"
        ],
        [
         "47",
         "mortgage_amount",
         "ratio",
         "0.15668338830445683"
        ],
        [
         "44",
         "mortgage_amount",
         "oldest_credit_line",
         "0.14461629740462742"
        ],
        [
         "119",
         "recent_credit",
         "ratio",
         "0.1425283014729747"
        ],
        [
         "59",
         "property_value",
         "ratio",
         "0.13211188648308053"
        ],
        [
         "29",
         "loan_amount",
         "occupation_length",
         "0.10005936627548902"
        ],
        [
         "118",
         "recent_credit",
         "credit_number",
         "0.08707936905374702"
        ],
        [
         "32",
         "loan_amount",
         "oldest_credit_line",
         "0.08554365732034513"
        ],
        [
         "35",
         "loan_amount",
         "ratio",
         "0.08539347881108736"
        ],
        [
         "34",
         "loan_amount",
         "credit_number",
         "0.07313329587897432"
        ],
        [
         "93",
         "late_payments",
         "recent_credit",
         "0.06425405325171384"
        ],
        [
         "82",
         "derogatory_reports",
         "credit_number",
         "0.06368799487831224"
        ],
        [
         "95",
         "late_payments",
         "ratio",
         "0.05791980656497606"
        ],
        [
         "33",
         "loan_amount",
         "recent_credit",
         "0.04368394493811058"
        ],
        [
         "45",
         "mortgage_amount",
         "recent_credit",
         "0.03691675324632548"
        ],
        [
         "67",
         "occupation_length",
         "late_payments",
         "0.034391882525675085"
        ],
        [
         "70",
         "occupation_length",
         "credit_number",
         "0.03086409060206032"
        ],
        [
         "9",
         "id",
         "recent_credit",
         "0.025446286902356497"
        ],
        [
         "92",
         "late_payments",
         "oldest_credit_line",
         "0.024087176400819133"
        ],
        [
         "7",
         "id",
         "late_payments",
         "0.01873350147068158"
        ],
        [
         "83",
         "derogatory_reports",
         "ratio",
         "0.015897590276918176"
        ],
        [
         "10",
         "id",
         "credit_number",
         "0.012864446690462671"
        ],
        [
         "53",
         "property_value",
         "occupation_length",
         "0.008109915389151562"
        ],
        [
         "1",
         "id",
         "default",
         "0.0064358609993533725"
        ],
        [
         "6",
         "id",
         "derogatory_reports",
         "0.005902033899051558"
        ],
        [
         "11",
         "id",
         "ratio",
         "0.004993116568529097"
        ],
        [
         "43",
         "mortgage_amount",
         "late_payments",
         "0.00202058081977015"
        ],
        [
         "4",
         "id",
         "property_value",
         "0.0017783802410064103"
        ],
        [
         "2",
         "id",
         "loan_amount",
         "0.0006250132413131021"
        ],
        [
         "3",
         "id",
         "mortgage_amount",
         "-0.00027020372607702923"
        ],
        [
         "57",
         "property_value",
         "recent_credit",
         "-0.001635246643003653"
        ],
        [
         "5",
         "id",
         "occupation_length",
         "-0.0019243181621372792"
        ],
        [
         "30",
         "loan_amount",
         "derogatory_reports",
         "-0.001970291936872877"
        ],
        [
         "22",
         "default",
         "credit_number",
         "-0.0062676380194493725"
        ],
        [
         "55",
         "property_value",
         "late_payments",
         "-0.01538536163839512"
        ]
       ],
       "shape": {
        "columns": 3,
        "rows": 66
       }
      },
      "text/html": [
       "<div>\n",
       "<style scoped>\n",
       "    .dataframe tbody tr th:only-of-type {\n",
       "        vertical-align: middle;\n",
       "    }\n",
       "\n",
       "    .dataframe tbody tr th {\n",
       "        vertical-align: top;\n",
       "    }\n",
       "\n",
       "    .dataframe thead th {\n",
       "        text-align: right;\n",
       "    }\n",
       "</style>\n",
       "<table border=\"1\" class=\"dataframe\">\n",
       "  <thead>\n",
       "    <tr style=\"text-align: right;\">\n",
       "      <th></th>\n",
       "      <th>Feature1</th>\n",
       "      <th>Feature2</th>\n",
       "      <th>Correlation</th>\n",
       "    </tr>\n",
       "  </thead>\n",
       "  <tbody>\n",
       "    <tr>\n",
       "      <th>40</th>\n",
       "      <td>mortgage_amount</td>\n",
       "      <td>property_value</td>\n",
       "      <td>0.872876</td>\n",
       "    </tr>\n",
       "    <tr>\n",
       "      <th>19</th>\n",
       "      <td>default</td>\n",
       "      <td>late_payments</td>\n",
       "      <td>0.349078</td>\n",
       "    </tr>\n",
       "    <tr>\n",
       "      <th>28</th>\n",
       "      <td>loan_amount</td>\n",
       "      <td>property_value</td>\n",
       "      <td>0.337907</td>\n",
       "    </tr>\n",
       "    <tr>\n",
       "      <th>46</th>\n",
       "      <td>mortgage_amount</td>\n",
       "      <td>credit_number</td>\n",
       "      <td>0.324958</td>\n",
       "    </tr>\n",
       "    <tr>\n",
       "      <th>18</th>\n",
       "      <td>default</td>\n",
       "      <td>derogatory_reports</td>\n",
       "      <td>0.273349</td>\n",
       "    </tr>\n",
       "    <tr>\n",
       "      <th>...</th>\n",
       "      <td>...</td>\n",
       "      <td>...</td>\n",
       "      <td>...</td>\n",
       "    </tr>\n",
       "    <tr>\n",
       "      <th>14</th>\n",
       "      <td>default</td>\n",
       "      <td>loan_amount</td>\n",
       "      <td>-0.073232</td>\n",
       "    </tr>\n",
       "    <tr>\n",
       "      <th>80</th>\n",
       "      <td>derogatory_reports</td>\n",
       "      <td>oldest_credit_line</td>\n",
       "      <td>-0.086073</td>\n",
       "    </tr>\n",
       "    <tr>\n",
       "      <th>41</th>\n",
       "      <td>mortgage_amount</td>\n",
       "      <td>occupation_length</td>\n",
       "      <td>-0.086102</td>\n",
       "    </tr>\n",
       "    <tr>\n",
       "      <th>105</th>\n",
       "      <td>oldest_credit_line</td>\n",
       "      <td>recent_credit</td>\n",
       "      <td>-0.116250</td>\n",
       "    </tr>\n",
       "    <tr>\n",
       "      <th>20</th>\n",
       "      <td>default</td>\n",
       "      <td>oldest_credit_line</td>\n",
       "      <td>-0.185258</td>\n",
       "    </tr>\n",
       "  </tbody>\n",
       "</table>\n",
       "<p>66 rows × 3 columns</p>\n",
       "</div>"
      ],
      "text/plain": [
       "               Feature1            Feature2  Correlation\n",
       "40      mortgage_amount      property_value     0.872876\n",
       "19              default       late_payments     0.349078\n",
       "28          loan_amount      property_value     0.337907\n",
       "46      mortgage_amount       credit_number     0.324958\n",
       "18              default  derogatory_reports     0.273349\n",
       "..                  ...                 ...          ...\n",
       "14              default         loan_amount    -0.073232\n",
       "80   derogatory_reports  oldest_credit_line    -0.086073\n",
       "41      mortgage_amount   occupation_length    -0.086102\n",
       "105  oldest_credit_line       recent_credit    -0.116250\n",
       "20              default  oldest_credit_line    -0.185258\n",
       "\n",
       "[66 rows x 3 columns]"
      ]
     },
     "execution_count": 67,
     "metadata": {},
     "output_type": "execute_result"
    }
   ],
   "source": [
    "corr_pairs = corr.unstack().reset_index()\n",
    "corr_pairs.columns = ['Feature1', 'Feature2', 'Correlation']\n",
    "\n",
    "# Remove self-correlation\n",
    "corr_pairs = corr_pairs[corr_pairs['Feature1'] != corr_pairs['Feature2']]\n",
    "\n",
    "# Drop duplicates pairs (A-B same as B-A)\n",
    "corr_pairs['Pairs'] = corr_pairs.apply(\n",
    "     lambda x: '-'.join(sorted(\n",
    "          [x['Feature1'], x['Feature2']]\n",
    "     )), axis = 1\n",
    ")\n",
    "corr_pairs = corr_pairs.drop_duplicates(subset='Pairs')\n",
    "\n",
    "# Sort values\n",
    "corr_pairs = corr_pairs.sort_values(by='Correlation', ascending=False)\n",
    "corr_pairs[['Feature1', 'Feature2', 'Correlation']]"
   ]
  },
  {
   "cell_type": "markdown",
   "id": "b8f58916",
   "metadata": {},
   "source": [
    "I will handling missing values by using insights from checking pairs with correlation above 0.2"
   ]
  },
  {
   "cell_type": "markdown",
   "id": "ee971af5",
   "metadata": {},
   "source": [
    "### property_value & mortgage_amount"
   ]
  },
  {
   "cell_type": "code",
   "execution_count": 68,
   "id": "1b6fc4e4",
   "metadata": {},
   "outputs": [
    {
     "data": {
      "text/plain": [
       "<Axes: xlabel='property_value', ylabel='mortgage_amount'>"
      ]
     },
     "execution_count": 68,
     "metadata": {},
     "output_type": "execute_result"
    },
    {
     "data": {
      "image/png": "[encoded data removed]",
      "text/plain": [
       "<Figure size 800x600 with 1 Axes>"
      ]
     },
     "metadata": {},
     "output_type": "display_data"
    }
   ],
   "source": [
    "plt.figure(figsize=(8,6))\n",
    "sns.scatterplot(x = 'property_value',\n",
    "             y = 'mortgage_amount',\n",
    "             data = df)"
   ]
  },
  {
   "cell_type": "code",
   "execution_count": 69,
   "id": "5b6ce769",
   "metadata": {},
   "outputs": [
    {
     "data": {
      "application/vnd.microsoft.datawrangler.viewer.v0+json": {
       "columns": [
        {
         "name": "index",
         "rawType": "object",
         "type": "string"
        },
        {
         "name": "LTV_ratio",
         "rawType": "float64",
         "type": "float"
        }
       ],
       "ref": "ba4abaf4-d622-4f67-b964-71c61ceb4120",
       "rows": [
        [
         "count",
         "4674.0"
        ],
        [
         "mean",
         "0.7093355396801636"
        ],
        [
         "std",
         "0.39004355845042893"
        ],
        [
         "min",
         "0.045698830919560285"
        ],
        [
         "25%",
         "0.6233006350894569"
        ],
        [
         "50%",
         "0.7174112115588445"
        ],
        [
         "75%",
         "0.7942143033091571"
        ],
        [
         "max",
         "7.1625"
        ]
       ],
       "shape": {
        "columns": 1,
        "rows": 8
       }
      },
      "text/plain": [
       "count    4674.000000\n",
       "mean        0.709336\n",
       "std         0.390044\n",
       "min         0.045699\n",
       "25%         0.623301\n",
       "50%         0.717411\n",
       "75%         0.794214\n",
       "max         7.162500\n",
       "Name: LTV_ratio, dtype: float64"
      ]
     },
     "execution_count": 69,
     "metadata": {},
     "output_type": "execute_result"
    }
   ],
   "source": [
    "df['LTV_ratio'] = df['mortgage_amount'] / df['property_value']\n",
    "df['LTV_ratio'].describe()"
   ]
  },
  {
   "cell_type": "markdown",
   "id": "b5a48eed",
   "metadata": {},
   "source": [
    "We see that the mean and median show LTV ratio is 0.7, hence, we can impute the missing values for 'mortgage_amount' and 'property_value' by the following formula:  \n",
    "**mortgage_amount = 0.7 * property_value**"
   ]
  },
  {
   "cell_type": "code",
   "execution_count": 70,
   "id": "c1d59672",
   "metadata": {},
   "outputs": [],
   "source": [
    "def fillna_mortgageAmount(df):\n",
    "     mortgage = df[0]\n",
    "     property = df[1]\n",
    "     if pd.isna(mortgage):\n",
    "          return 0.7 * property\n",
    "     else:\n",
    "          return np.mean(mortgage)\n",
    "\n",
    "def fillna_property(df):\n",
    "     mortgage = df[0]\n",
    "     property = df[1]\n",
    "     if pd.isna(property):\n",
    "          return mortgage / 0.7\n",
    "     else: \n",
    "          return np.mean(property)"
   ]
  },
  {
   "cell_type": "markdown",
   "id": "ce0c9895",
   "metadata": {},
   "source": [
    "### t-test"
   ]
  },
  {
   "cell_type": "code",
   "execution_count": 71,
   "id": "30920c0b",
   "metadata": {},
   "outputs": [
    {
     "data": {
      "image/png": "[encoded data removed]",
      "text/plain": [
       "<Figure size 640x480 with 1 Axes>"
      ]
     },
     "metadata": {},
     "output_type": "display_data"
    }
   ],
   "source": [
    "plt.figure()\n",
    "sns.boxplot(x = 'default', y = 'loan_amount',\n",
    "            data=df,\n",
    "            palette=['skyblue', 'salmon'])\n",
    "plt.title('Distribution of Default Status by Loan Amount')\n",
    "plt.show()"
   ]
  },
  {
   "cell_type": "code",
   "execution_count": 72,
   "id": "70074c8d",
   "metadata": {},
   "outputs": [
    {
     "name": "stdout",
     "output_type": "stream",
     "text": [
      "T-statistic: -5.14, P-value: 3.0736856780213165e-07\n"
     ]
    }
   ],
   "source": [
    "loan_default = df[df['default'] == 1]['loan_amount']\n",
    "loan_non_default = df[df['default'] == 0]['loan_amount']\n",
    "\n",
    "t_stat, p_value = ttest_ind(loan_default,loan_non_default, equal_var=False)\n",
    "print(f'T-statistic: {t_stat:.3}, P-value: {p_value}')"
   ]
  },
  {
   "cell_type": "markdown",
   "id": "0ec93261",
   "metadata": {},
   "source": [
    "Since p-value < 0.05, we can conclude that there is a statistically significant difference in loan amount between defaulters and non-defaulters. This suggests that loan amount is associated with default status."
   ]
  },
  {
   "cell_type": "markdown",
   "id": "51c00753",
   "metadata": {},
   "source": [
    "### loan_reason & occupation"
   ]
  },
  {
   "cell_type": "code",
   "execution_count": 73,
   "id": "03f2bb2f",
   "metadata": {},
   "outputs": [
    {
     "data": {
      "image/png": "[encoded data removed]",
      "text/plain": [
       "<Figure size 1200x600 with 2 Axes>"
      ]
     },
     "metadata": {},
     "output_type": "display_data"
    }
   ],
   "source": [
    "df['occupation_filled'] = df['occupation'].fillna('Missing')\n",
    "\n",
    "# Calculate counts and default rate\n",
    "occupation_stats = df.groupby('occupation_filled').agg(\n",
    "    count=('default', 'size'),\n",
    "    default_rate=('default', 'mean')\n",
    ").reset_index()\n",
    "\n",
    "fig, ax1 = plt.subplots(figsize=(12,6))\n",
    "\n",
    "# Bar plot for counts (distribution)\n",
    "sns.barplot(x='occupation_filled', y='count', data=occupation_stats, ax=ax1, color='skyblue')\n",
    "ax1.set_ylabel('Number of Records', color='blue')\n",
    "ax1.set_xlabel('Occupation')\n",
    "ax1.tick_params(axis='y', labelcolor='blue')\n",
    "\n",
    "# Second y-axis for default rate\n",
    "ax2 = ax1.twinx()\n",
    "sns.lineplot(x='occupation_filled', y='default_rate', data=occupation_stats, ax=ax2, color='red', marker='o')\n",
    "ax2.set_ylabel('Default Rate', color='red')\n",
    "ax2.tick_params(axis='y', labelcolor='red')\n",
    "\n",
    "plt.title(\"Occupation Distribution and Default Rate\")\n",
    "plt.show()"
   ]
  },
  {
   "cell_type": "markdown",
   "id": "ca4f920c",
   "metadata": {},
   "source": [
    "Though having the least records, 'Sales' and 'Self' pose highest risk to default"
   ]
  },
  {
   "cell_type": "code",
   "execution_count": 74,
   "id": "468bf2db",
   "metadata": {},
   "outputs": [
    {
     "data": {
      "image/png": "[encoded data removed]",
      "text/plain": [
       "<Figure size 800x600 with 2 Axes>"
      ]
     },
     "metadata": {},
     "output_type": "display_data"
    }
   ],
   "source": [
    "df['loan_reason_filled'] = df['loan_reason'].fillna('Missing')\n",
    "\n",
    "loan_reason_stat = (df.groupby('loan_reason_filled').agg(\n",
    "     count = ('default', 'size'),\n",
    "     default_rate = ('default', 'mean')\n",
    ")).reset_index()\n",
    "\n",
    "fig, ax1 = plt.subplots(figsize=(8,6))\n",
    "\n",
    "# Bar plot for counts\n",
    "sns.barplot(x = 'loan_reason_filled',\n",
    "            y = 'count',\n",
    "            data = loan_reason_stat)\n",
    "ax1.set_ylabel('Number of Records')\n",
    "ax1.set_xlabel('Loan Reason')\n",
    "\n",
    "# Second axis for default rate\n",
    "ax2 = ax1.twinx()\n",
    "sns.lineplot(x = 'loan_reason_filled',\n",
    "             y = 'default_rate',\n",
    "             data = loan_reason_stat,\n",
    "             color = 'red',\n",
    "             marker ='o')\n",
    "ax2.set_ylabel('Default Rate', color = 'red')\n",
    "ax2.tick_params(axis = 'y', labelcolor = 'red')\n",
    "\n",
    "plt.title('Loan Reason Distribution and Default Rate')\n",
    "plt.show()"
   ]
  },
  {
   "cell_type": "markdown",
   "id": "8fe4b2dd",
   "metadata": {},
   "source": [
    "'HomeImp' pose highest default risk"
   ]
  },
  {
   "cell_type": "code",
   "execution_count": 75,
   "id": "b62b6738",
   "metadata": {},
   "outputs": [
    {
     "data": {
      "image/png": "[encoded data removed]",
      "text/plain": [
       "<Figure size 640x480 with 1 Axes>"
      ]
     },
     "metadata": {},
     "output_type": "display_data"
    }
   ],
   "source": [
    "plt.figure()\n",
    "sns.boxplot(x = 'loan_reason', y = 'loan_amount',\n",
    "            data=df)\n",
    "plt.title('Distribution of Loan Amounts by Loan Reason')\n",
    "plt.yticks(range(5000, 90000, 5000))\n",
    "plt.show()"
   ]
  },
  {
   "cell_type": "markdown",
   "id": "a86f8b72",
   "metadata": {},
   "source": [
    "- If 'loan_reaon' > 15000 then high chance it's 'DebtCon'  \n",
    "- If 'loan_reaon' < 15000 then high chacne it's 'HomeImp'"
   ]
  },
  {
   "cell_type": "code",
   "execution_count": 76,
   "id": "bada940f",
   "metadata": {},
   "outputs": [
    {
     "data": {
      "image/png": "[encoded data removed]",
      "text/plain": [
       "<Figure size 1200x800 with 1 Axes>"
      ]
     },
     "metadata": {},
     "output_type": "display_data"
    }
   ],
   "source": [
    "order = (\n",
    "     df.groupby('occupation')['loan_amount']\n",
    "     .median()\n",
    "     .sort_values(ascending=False)\n",
    "     .index\n",
    ")\n",
    "plt.figure(figsize=(12,8))\n",
    "sns.boxplot(x = 'occupation', y = 'loan_amount',\n",
    "            data=df,\n",
    "            order = order)\n",
    "plt.title('Distribution of Loan Amounts by Occupation')\n",
    "plt.yticks(range(5000, 90000, 5000))\n",
    "plt.show()"
   ]
  },
  {
   "cell_type": "markdown",
   "id": "e77d33b6",
   "metadata": {},
   "source": [
    "- 'loan_amount' > 25000 then 'Self'  \n",
    "- 'loan_amount' < 15000 then 'Sales'\n",
    "- random other because there is no stand-out pattern."
   ]
  },
  {
   "cell_type": "code",
   "execution_count": 77,
   "id": "1d2b6de2",
   "metadata": {},
   "outputs": [],
   "source": [
    "def fillna_occupation(df):\n",
    "     occupation = df[0]\n",
    "     loan_reason = df[1]\n",
    "     loan_amount = df[2]\n",
    "\n",
    "     occupation_array = ['Office', 'Other', 'ProfExe', 'Mgr', 'Sales']\n",
    "\n",
    "     if pd.isna(occupation):\n",
    "          if loan_amount > 25000:\n",
    "               return 'Self'\n",
    "          elif loan_amount < 20000 and loan_reason == 'DebtCon':\n",
    "               return 'Sales'\n",
    "          elif loan_amount < 15000 and loan_reason == 'HomeImp':\n",
    "               return 'Sales'\n",
    "          else: \n",
    "               return random.choice(occupation_array)\n",
    "     else: return occupation\n",
    "\n",
    "def fillna_loanReason(df):\n",
    "     occupation = df[0]\n",
    "     loan_reason = df[1]\n",
    "     loan_amount = df[2]\n",
    "\n",
    "     if pd.isna(loan_reason):\n",
    "          if occupation == 'Sales':\n",
    "               return 'DebtCon'\n",
    "          elif loan_amount > 20000:\n",
    "               return 'DebtCon'\n",
    "          else: \n",
    "               return 'HomeImp'\n",
    "     else: \n",
    "          return loan_reason\n",
    "               "
   ]
  },
  {
   "cell_type": "markdown",
   "id": "1cb9df21",
   "metadata": {},
   "source": [
    "### occupation length"
   ]
  },
  {
   "cell_type": "code",
   "execution_count": 78,
   "id": "0deafb93",
   "metadata": {},
   "outputs": [
    {
     "data": {
      "image/png": "[encoded data removed]",
      "text/plain": [
       "<Figure size 1200x600 with 1 Axes>"
      ]
     },
     "metadata": {},
     "output_type": "display_data"
    }
   ],
   "source": [
    "order = (\n",
    "     df.groupby('occupation')['occupation_length']\n",
    "     .median()\n",
    "     .sort_values(ascending=False)\n",
    "     .index\n",
    ")\n",
    "plt.figure(figsize=(12,6))\n",
    "sns.boxplot(x = 'occupation',\n",
    "            y = 'occupation_length',\n",
    "            data = df,\n",
    "            order=order)\n",
    "plt.title('Distribution of Length for each Occupation')\n",
    "plt.yticks(range(5,45,5))\n",
    "plt.show()"
   ]
  },
  {
   "cell_type": "code",
   "execution_count": 79,
   "id": "5610aea7",
   "metadata": {},
   "outputs": [],
   "source": [
    "def fillna_occupationLength(df):\n",
    "     occupation = df[0]\n",
    "     occupation_length = df[1]\n",
    "\n",
    "     if pd.isna(occupation_length):\n",
    "          if occupation == 'Sales':\n",
    "               return 5\n",
    "          elif occupation == 'Office' or occupation == 'Self':\n",
    "               return 6\n",
    "          else:\n",
    "               return random.choice([7,8])\n",
    "     else: return occupation_length"
   ]
  },
  {
   "cell_type": "markdown",
   "id": "7ba91162",
   "metadata": {},
   "source": [
    "### derogatory_reports & late_payment"
   ]
  },
  {
   "cell_type": "code",
   "execution_count": 80,
   "id": "c9f1522d",
   "metadata": {},
   "outputs": [
    {
     "data": {
      "image/png": "[encoded data removed]",
      "text/plain": [
       "<Figure size 1200x600 with 1 Axes>"
      ]
     },
     "metadata": {},
     "output_type": "display_data"
    }
   ],
   "source": [
    "plt.figure(figsize=(12,6))\n",
    "sns.boxplot(x= 'derogatory_reports',\n",
    "            y = 'late_payments',\n",
    "            data = df)\n",
    "plt.title('Distribution of Derogatory Report by Late Payment')\n",
    "plt.show()"
   ]
  },
  {
   "cell_type": "markdown",
   "id": "d7ea3fea",
   "metadata": {},
   "source": [
    "- The median and spread of late payments tend to increase as derogatory reports increase"
   ]
  },
  {
   "cell_type": "code",
   "execution_count": 81,
   "id": "c9c7ddb8",
   "metadata": {},
   "outputs": [],
   "source": [
    "def fillna_derogatoryReports(df):\n",
    "     derogatory_reports = df[0]\n",
    "     late_payments = df[1]\n",
    "\n",
    "     if pd.isna(derogatory_reports):\n",
    "          if late_payments == 0:\n",
    "               return np.random.choice([0,5])\n",
    "          if late_payments == 1: \n",
    "               return np.random.choice([9,10])\n",
    "          if late_payments == 2:\n",
    "               return np.random.choice([1,2,4,6,8])\n",
    "          if late_payments == 5:\n",
    "               return 3\n",
    "          if late_payments == 6:\n",
    "               return 7\n",
    "     else:\n",
    "          return derogatory_reports\n",
    "\n",
    "def fillna_latePayments(df):\n",
    "     derogatory_reports = df[0]\n",
    "     late_payments = df[1]\n",
    "\n",
    "     if pd.isna(late_payments):\n",
    "          if derogatory_reports == 0 or derogatory_reports == 5:\n",
    "               return 0\n",
    "          elif derogatory_reports in {9,10}:\n",
    "               return 1\n",
    "          elif derogatory_reports in {1,2,4,6,8}:\n",
    "               return 2\n",
    "          elif derogatory_reports == 3:\n",
    "               return 5\n",
    "          else:\n",
    "               return 6\n",
    "     else: \n",
    "          return late_payments"
   ]
  },
  {
   "cell_type": "markdown",
   "id": "3e7d9f7d",
   "metadata": {},
   "source": [
    "## Handle Missing Values"
   ]
  },
  {
   "cell_type": "code",
   "execution_count": 82,
   "id": "cdbcbfd5",
   "metadata": {},
   "outputs": [],
   "source": [
    "def handleMissing(df):\n",
    "     warnings.filterwarnings(\"ignore\")\n",
    "     \n",
    "     df['property_value'] = df[['mortgage_amount', 'property_value']].apply(fillna_property, axis = 1)\n",
    "     \n",
    "     df['mortgage_amount'] = df[['mortgage_amount', 'property_value']].apply(fillna_mortgageAmount, axis = 1)\n",
    "     \n",
    "     df['occupation'] = df[['occupation', 'loan_reason', 'loan_amount']].apply(fillna_occupation, axis = 1)\n",
    "     \n",
    "     df['loan_reason'] = df[['occupation', 'loan_reason', 'loan_amount']].apply(fillna_loanReason, axis = 1)\n",
    "     \n",
    "     df['occupation_length'] = df[['occupation', 'occupation_length']].apply(fillna_occupationLength, axis = 1)\n",
    "     \n",
    "     df['derogatory_reports'] = df[['derogatory_reports', 'late_payments']].apply(fillna_derogatoryReports, axis = 1)\n",
    "     \n",
    "     df['late_payments'] = df[['derogatory_reports', 'late_payments']].apply(fillna_latePayments, axis = 1)\n",
    "\n",
    "     df['oldest_credit_line'] = df['oldest_credit_line'].fillna(df['oldest_credit_line'].median())\n",
    "     \n",
    "     df['recent_credit'] = df['recent_credit'].fillna(df['recent_credit'].median())\n",
    "\n",
    "     df['credit_number'] = df['credit_number'].fillna(df['credit_number'].median())\n",
    "\n",
    "     df['ratio'] = df['ratio'].fillna(df['ratio'].median())\n",
    "     \n",
    "     return df\n",
    "\n",
    "df = handleMissing(df)"
   ]
  },
  {
   "cell_type": "code",
   "execution_count": 83,
   "id": "a9b1cc7d",
   "metadata": {},
   "outputs": [
    {
     "data": {
      "application/vnd.microsoft.datawrangler.viewer.v0+json": {
       "columns": [
        {
         "name": "index",
         "rawType": "object",
         "type": "string"
        },
        {
         "name": "0",
         "rawType": "int64",
         "type": "integer"
        }
       ],
       "ref": "3ed36931-79ed-4c23-94e7-ae5a2a51b99d",
       "rows": [
        [
         "id",
         "0"
        ],
        [
         "default",
         "0"
        ],
        [
         "loan_amount",
         "0"
        ],
        [
         "mortgage_amount",
         "22"
        ],
        [
         "property_value",
         "22"
        ],
        [
         "loan_reason",
         "0"
        ],
        [
         "occupation",
         "0"
        ],
        [
         "occupation_length",
         "0"
        ],
        [
         "derogatory_reports",
         "472"
        ],
        [
         "late_payments",
         "0"
        ],
        [
         "oldest_credit_line",
         "0"
        ],
        [
         "recent_credit",
         "0"
        ],
        [
         "credit_number",
         "0"
        ],
        [
         "ratio",
         "0"
        ],
        [
         "LTV_ratio",
         "524"
        ],
        [
         "occupation_filled",
         "0"
        ],
        [
         "loan_reason_filled",
         "0"
        ]
       ],
       "shape": {
        "columns": 1,
        "rows": 17
       }
      },
      "text/plain": [
       "id                      0\n",
       "default                 0\n",
       "loan_amount             0\n",
       "mortgage_amount        22\n",
       "property_value         22\n",
       "loan_reason             0\n",
       "occupation              0\n",
       "occupation_length       0\n",
       "derogatory_reports    472\n",
       "late_payments           0\n",
       "oldest_credit_line      0\n",
       "recent_credit           0\n",
       "credit_number           0\n",
       "ratio                   0\n",
       "LTV_ratio             524\n",
       "occupation_filled       0\n",
       "loan_reason_filled      0\n",
       "dtype: int64"
      ]
     },
     "execution_count": 83,
     "metadata": {},
     "output_type": "execute_result"
    }
   ],
   "source": [
    "df.isna().sum()"
   ]
  },
  {
   "cell_type": "code",
   "execution_count": 84,
   "id": "44c78922",
   "metadata": {},
   "outputs": [
    {
     "data": {
      "application/vnd.microsoft.datawrangler.viewer.v0+json": {
       "columns": [
        {
         "name": "index",
         "rawType": "object",
         "type": "string"
        },
        {
         "name": "0",
         "rawType": "int64",
         "type": "integer"
        }
       ],
       "ref": "af698b41-c108-4a3c-9b1b-add357714c29",
       "rows": [
        [
         "id",
         "0"
        ],
        [
         "default",
         "0"
        ],
        [
         "loan_amount",
         "0"
        ],
        [
         "mortgage_amount",
         "0"
        ],
        [
         "property_value",
         "0"
        ],
        [
         "loan_reason",
         "0"
        ],
        [
         "occupation",
         "0"
        ],
        [
         "occupation_length",
         "0"
        ],
        [
         "derogatory_reports",
         "0"
        ],
        [
         "late_payments",
         "0"
        ],
        [
         "oldest_credit_line",
         "0"
        ],
        [
         "recent_credit",
         "0"
        ],
        [
         "credit_number",
         "0"
        ],
        [
         "ratio",
         "0"
        ],
        [
         "LTV_ratio",
         "524"
        ],
        [
         "occupation_filled",
         "0"
        ],
        [
         "loan_reason_filled",
         "0"
        ]
       ],
       "shape": {
        "columns": 1,
        "rows": 17
       }
      },
      "text/plain": [
       "id                      0\n",
       "default                 0\n",
       "loan_amount             0\n",
       "mortgage_amount         0\n",
       "property_value          0\n",
       "loan_reason             0\n",
       "occupation              0\n",
       "occupation_length       0\n",
       "derogatory_reports      0\n",
       "late_payments           0\n",
       "oldest_credit_line      0\n",
       "recent_credit           0\n",
       "credit_number           0\n",
       "ratio                   0\n",
       "LTV_ratio             524\n",
       "occupation_filled       0\n",
       "loan_reason_filled      0\n",
       "dtype: int64"
      ]
     },
     "execution_count": 84,
     "metadata": {},
     "output_type": "execute_result"
    }
   ],
   "source": [
    "median_values = df[['loan_amount', 'mortgage_amount', 'property_value', 'occupation_length', \n",
    "          'derogatory_reports', 'late_payments', 'oldest_credit_line', 'recent_credit', \n",
    "          'credit_number', 'ratio']].median()\n",
    "\n",
    "df[['loan_amount', 'mortgage_amount', 'property_value', 'occupation_length', \n",
    "          'derogatory_reports', 'late_payments', 'oldest_credit_line', 'recent_credit', \n",
    "          'credit_number', 'ratio']] = df[['loan_amount', 'mortgage_amount', 'property_value', 'occupation_length', \n",
    "          'derogatory_reports', 'late_payments', 'oldest_credit_line', 'recent_credit', \n",
    "          'credit_number', 'ratio']].fillna(median_values)\n",
    "\n",
    "df.isna().sum()"
   ]
  },
  {
   "cell_type": "code",
   "execution_count": 85,
   "id": "e597d096",
   "metadata": {},
   "outputs": [
    {
     "data": {
      "application/vnd.microsoft.datawrangler.viewer.v0+json": {
       "columns": [
        {
         "name": "index",
         "rawType": "int64",
         "type": "integer"
        },
        {
         "name": "id",
         "rawType": "int64",
         "type": "integer"
        },
        {
         "name": "default",
         "rawType": "int64",
         "type": "integer"
        },
        {
         "name": "loan_amount",
         "rawType": "int64",
         "type": "integer"
        },
        {
         "name": "mortgage_amount",
         "rawType": "float64",
         "type": "float"
        },
        {
         "name": "property_value",
         "rawType": "float64",
         "type": "float"
        },
        {
         "name": "loan_reason",
         "rawType": "object",
         "type": "string"
        },
        {
         "name": "occupation",
         "rawType": "object",
         "type": "string"
        },
        {
         "name": "occupation_length",
         "rawType": "float64",
         "type": "float"
        },
        {
         "name": "derogatory_reports",
         "rawType": "float64",
         "type": "float"
        },
        {
         "name": "late_payments",
         "rawType": "float64",
         "type": "float"
        },
        {
         "name": "oldest_credit_line",
         "rawType": "float64",
         "type": "float"
        },
        {
         "name": "recent_credit",
         "rawType": "float64",
         "type": "float"
        },
        {
         "name": "credit_number",
         "rawType": "float64",
         "type": "float"
        },
        {
         "name": "ratio",
         "rawType": "float64",
         "type": "float"
        }
       ],
       "ref": "743a87e4-2c27-4b8d-ba6a-4b65f8712ed5",
       "rows": [
        [
         "0",
         "16537",
         "0",
         "20900",
         "58299.0",
         "78684.0",
         "DebtCon",
         "Office",
         "3.0",
         "0.0",
         "0.0",
         "98.66282045",
         "0.0",
         "16.0",
         "38.97200388"
        ],
        [
         "1",
         "14800",
         "0",
         "17400",
         "56111.0",
         "114521.0",
         "HomeImp",
         "Office",
         "2.0",
         "4.0",
         "2.0",
         "154.8555239",
         "1.0",
         "24.0",
         "38.69508356"
        ],
        [
         "2",
         "11317",
         "0",
         "8700",
         "57254.0",
         "86883.0",
         "HomeImp",
         "Other",
         "16.0",
         "0.0",
         "0.0",
         "172.1665627",
         "0.0",
         "28.0",
         "25.04343675"
        ],
        [
         "3",
         "13023",
         "0",
         "6000",
         "69876.0",
         "94394.07",
         "HomeImp",
         "Other",
         "0.0",
         "0.0",
         "1.0",
         "179.5666667",
         "0.0",
         "32.0",
         "34.88924173"
        ],
        [
         "4",
         "11652",
         "0",
         "9700",
         "75566.0",
         "92066.0",
         "DebtCon",
         "Office",
         "14.0",
         "0.0",
         "0.0",
         "94.98792219",
         "0.0",
         "8.0",
         "25.16118347"
        ]
       ],
       "shape": {
        "columns": 14,
        "rows": 5
       }
      },
      "text/html": [
       "<div>\n",
       "<style scoped>\n",
       "    .dataframe tbody tr th:only-of-type {\n",
       "        vertical-align: middle;\n",
       "    }\n",
       "\n",
       "    .dataframe tbody tr th {\n",
       "        vertical-align: top;\n",
       "    }\n",
       "\n",
       "    .dataframe thead th {\n",
       "        text-align: right;\n",
       "    }\n",
       "</style>\n",
       "<table border=\"1\" class=\"dataframe\">\n",
       "  <thead>\n",
       "    <tr style=\"text-align: right;\">\n",
       "      <th></th>\n",
       "      <th>id</th>\n",
       "      <th>default</th>\n",
       "      <th>loan_amount</th>\n",
       "      <th>mortgage_amount</th>\n",
       "      <th>property_value</th>\n",
       "      <th>loan_reason</th>\n",
       "      <th>occupation</th>\n",
       "      <th>occupation_length</th>\n",
       "      <th>derogatory_reports</th>\n",
       "      <th>late_payments</th>\n",
       "      <th>oldest_credit_line</th>\n",
       "      <th>recent_credit</th>\n",
       "      <th>credit_number</th>\n",
       "      <th>ratio</th>\n",
       "    </tr>\n",
       "  </thead>\n",
       "  <tbody>\n",
       "    <tr>\n",
       "      <th>0</th>\n",
       "      <td>16537</td>\n",
       "      <td>0</td>\n",
       "      <td>20900</td>\n",
       "      <td>58299.0</td>\n",
       "      <td>78684.00</td>\n",
       "      <td>DebtCon</td>\n",
       "      <td>Office</td>\n",
       "      <td>3.0</td>\n",
       "      <td>0.0</td>\n",
       "      <td>0.0</td>\n",
       "      <td>98.662820</td>\n",
       "      <td>0.0</td>\n",
       "      <td>16.0</td>\n",
       "      <td>38.972004</td>\n",
       "    </tr>\n",
       "    <tr>\n",
       "      <th>1</th>\n",
       "      <td>14800</td>\n",
       "      <td>0</td>\n",
       "      <td>17400</td>\n",
       "      <td>56111.0</td>\n",
       "      <td>114521.00</td>\n",
       "      <td>HomeImp</td>\n",
       "      <td>Office</td>\n",
       "      <td>2.0</td>\n",
       "      <td>4.0</td>\n",
       "      <td>2.0</td>\n",
       "      <td>154.855524</td>\n",
       "      <td>1.0</td>\n",
       "      <td>24.0</td>\n",
       "      <td>38.695084</td>\n",
       "    </tr>\n",
       "    <tr>\n",
       "      <th>2</th>\n",
       "      <td>11317</td>\n",
       "      <td>0</td>\n",
       "      <td>8700</td>\n",
       "      <td>57254.0</td>\n",
       "      <td>86883.00</td>\n",
       "      <td>HomeImp</td>\n",
       "      <td>Other</td>\n",
       "      <td>16.0</td>\n",
       "      <td>0.0</td>\n",
       "      <td>0.0</td>\n",
       "      <td>172.166563</td>\n",
       "      <td>0.0</td>\n",
       "      <td>28.0</td>\n",
       "      <td>25.043437</td>\n",
       "    </tr>\n",
       "    <tr>\n",
       "      <th>3</th>\n",
       "      <td>13023</td>\n",
       "      <td>0</td>\n",
       "      <td>6000</td>\n",
       "      <td>69876.0</td>\n",
       "      <td>94394.07</td>\n",
       "      <td>HomeImp</td>\n",
       "      <td>Other</td>\n",
       "      <td>0.0</td>\n",
       "      <td>0.0</td>\n",
       "      <td>1.0</td>\n",
       "      <td>179.566667</td>\n",
       "      <td>0.0</td>\n",
       "      <td>32.0</td>\n",
       "      <td>34.889242</td>\n",
       "    </tr>\n",
       "    <tr>\n",
       "      <th>4</th>\n",
       "      <td>11652</td>\n",
       "      <td>0</td>\n",
       "      <td>9700</td>\n",
       "      <td>75566.0</td>\n",
       "      <td>92066.00</td>\n",
       "      <td>DebtCon</td>\n",
       "      <td>Office</td>\n",
       "      <td>14.0</td>\n",
       "      <td>0.0</td>\n",
       "      <td>0.0</td>\n",
       "      <td>94.987922</td>\n",
       "      <td>0.0</td>\n",
       "      <td>8.0</td>\n",
       "      <td>25.161183</td>\n",
       "    </tr>\n",
       "  </tbody>\n",
       "</table>\n",
       "</div>"
      ],
      "text/plain": [
       "      id  default  loan_amount  mortgage_amount  property_value loan_reason  \\\n",
       "0  16537        0        20900          58299.0        78684.00     DebtCon   \n",
       "1  14800        0        17400          56111.0       114521.00     HomeImp   \n",
       "2  11317        0         8700          57254.0        86883.00     HomeImp   \n",
       "3  13023        0         6000          69876.0        94394.07     HomeImp   \n",
       "4  11652        0         9700          75566.0        92066.00     DebtCon   \n",
       "\n",
       "  occupation  occupation_length  derogatory_reports  late_payments  \\\n",
       "0     Office                3.0                 0.0            0.0   \n",
       "1     Office                2.0                 4.0            2.0   \n",
       "2      Other               16.0                 0.0            0.0   \n",
       "3      Other                0.0                 0.0            1.0   \n",
       "4     Office               14.0                 0.0            0.0   \n",
       "\n",
       "   oldest_credit_line  recent_credit  credit_number      ratio  \n",
       "0           98.662820            0.0           16.0  38.972004  \n",
       "1          154.855524            1.0           24.0  38.695084  \n",
       "2          172.166563            0.0           28.0  25.043437  \n",
       "3          179.566667            0.0           32.0  34.889242  \n",
       "4           94.987922            0.0            8.0  25.161183  "
      ]
     },
     "execution_count": 85,
     "metadata": {},
     "output_type": "execute_result"
    }
   ],
   "source": [
    "df = df.drop(columns=['LTV_ratio', 'occupation_filled', 'loan_reason_filled'])\n",
    "df.head()"
   ]
  },
  {
   "cell_type": "markdown",
   "id": "075100d4",
   "metadata": {},
   "source": [
    "## Label Encoding and Standardize"
   ]
  },
  {
   "cell_type": "code",
   "execution_count": 86,
   "id": "41c18af7",
   "metadata": {},
   "outputs": [
    {
     "data": {
      "application/vnd.microsoft.datawrangler.viewer.v0+json": {
       "columns": [
        {
         "name": "index",
         "rawType": "int64",
         "type": "integer"
        },
        {
         "name": "id",
         "rawType": "int64",
         "type": "integer"
        },
        {
         "name": "default",
         "rawType": "int64",
         "type": "integer"
        },
        {
         "name": "loan_amount",
         "rawType": "float64",
         "type": "float"
        },
        {
         "name": "mortgage_amount",
         "rawType": "float64",
         "type": "float"
        },
        {
         "name": "property_value",
         "rawType": "float64",
         "type": "float"
        },
        {
         "name": "occupation_length",
         "rawType": "float64",
         "type": "float"
        },
        {
         "name": "derogatory_reports",
         "rawType": "float64",
         "type": "float"
        },
        {
         "name": "late_payments",
         "rawType": "float64",
         "type": "float"
        },
        {
         "name": "oldest_credit_line",
         "rawType": "float64",
         "type": "float"
        },
        {
         "name": "recent_credit",
         "rawType": "float64",
         "type": "float"
        },
        {
         "name": "credit_number",
         "rawType": "float64",
         "type": "float"
        },
        {
         "name": "ratio",
         "rawType": "float64",
         "type": "float"
        },
        {
         "name": "occupation_Mgr",
         "rawType": "float64",
         "type": "float"
        },
        {
         "name": "occupation_Office",
         "rawType": "float64",
         "type": "float"
        },
        {
         "name": "occupation_Other",
         "rawType": "float64",
         "type": "float"
        },
        {
         "name": "occupation_ProfExe",
         "rawType": "float64",
         "type": "float"
        },
        {
         "name": "occupation_Sales",
         "rawType": "float64",
         "type": "float"
        },
        {
         "name": "occupation_Self",
         "rawType": "float64",
         "type": "float"
        },
        {
         "name": "loan_reason_DebtCon",
         "rawType": "float64",
         "type": "float"
        },
        {
         "name": "loan_reason_HomeImp",
         "rawType": "float64",
         "type": "float"
        }
       ],
       "ref": "fab2e3e5-f117-4dcb-88c7-bb8c43639220",
       "rows": [
        [
         "0",
         "16537",
         "0",
         "0.19420034276785572",
         "-0.29081081822571486",
         "-0.40465569982652777",
         "-0.7954892222029234",
         "-0.2818066887949307",
         "0.0",
         "-0.9742302386833331",
         "0.0",
         "16.0",
         "0.6405080923168308",
         "0.0",
         "1.0",
         "0.0",
         "0.0",
         "0.0",
         "0.0",
         "1.0",
         "0.0"
        ],
        [
         "1",
         "14800",
         "0",
         "-0.11502515400917118",
         "-0.3390333427969848",
         "0.22352002488143374",
         "-0.933616811356721",
         "2.5216979396377006",
         "2.0",
         "-0.29317620715106346",
         "1.0",
         "24.0",
         "0.6045200032117528",
         "0.0",
         "1.0",
         "0.0",
         "0.0",
         "0.0",
         "0.0",
         "0.0",
         "1.0"
        ],
        [
         "2",
         "11317",
         "0",
         "-0.8836713888549238",
         "-0.31384214280385797",
         "-0.2609379565198733",
         "1.0001694367964449",
         "-0.2818066887949307",
         "0.0",
         "-0.08336688955448278",
         "0.0",
         "28.0",
         "-1.1696245659889861",
         "0.0",
         "0.0",
         "1.0",
         "0.0",
         "0.0",
         "0.0",
         "0.0",
         "1.0"
        ],
        [
         "3",
         "13023",
         "0",
         "-1.122216772082916",
         "-0.035659005171970515",
         "-0.1292787260992959",
         "-1.2098719896643162",
         "-0.2818066887949307",
         "1.0",
         "0.0063221688735842245",
         "0.0",
         "32.0",
         "0.10991933650057675",
         "0.0",
         "0.0",
         "1.0",
         "0.0",
         "0.0",
         "0.0",
         "0.0",
         "1.0"
        ],
        [
         "4",
         "11652",
         "0",
         "-0.7953212469186304",
         "0.08974600616739248",
         "-0.1700867474018845",
         "0.7239142584888498",
         "-0.2818066887949307",
         "0.0",
         "-1.0187699052553623",
         "0.0",
         "8.0",
         "-1.154322404518168",
         "0.0",
         "1.0",
         "0.0",
         "0.0",
         "0.0",
         "0.0",
         "1.0",
         "0.0"
        ]
       ],
       "shape": {
        "columns": 20,
        "rows": 5
       }
      },
      "text/html": [
       "<div>\n",
       "<style scoped>\n",
       "    .dataframe tbody tr th:only-of-type {\n",
       "        vertical-align: middle;\n",
       "    }\n",
       "\n",
       "    .dataframe tbody tr th {\n",
       "        vertical-align: top;\n",
       "    }\n",
       "\n",
       "    .dataframe thead th {\n",
       "        text-align: right;\n",
       "    }\n",
       "</style>\n",
       "<table border=\"1\" class=\"dataframe\">\n",
       "  <thead>\n",
       "    <tr style=\"text-align: right;\">\n",
       "      <th></th>\n",
       "      <th>id</th>\n",
       "      <th>default</th>\n",
       "      <th>loan_amount</th>\n",
       "      <th>mortgage_amount</th>\n",
       "      <th>property_value</th>\n",
       "      <th>occupation_length</th>\n",
       "      <th>derogatory_reports</th>\n",
       "      <th>late_payments</th>\n",
       "      <th>oldest_credit_line</th>\n",
       "      <th>recent_credit</th>\n",
       "      <th>credit_number</th>\n",
       "      <th>ratio</th>\n",
       "      <th>occupation_Mgr</th>\n",
       "      <th>occupation_Office</th>\n",
       "      <th>occupation_Other</th>\n",
       "      <th>occupation_ProfExe</th>\n",
       "      <th>occupation_Sales</th>\n",
       "      <th>occupation_Self</th>\n",
       "      <th>loan_reason_DebtCon</th>\n",
       "      <th>loan_reason_HomeImp</th>\n",
       "    </tr>\n",
       "  </thead>\n",
       "  <tbody>\n",
       "    <tr>\n",
       "      <th>0</th>\n",
       "      <td>16537</td>\n",
       "      <td>0</td>\n",
       "      <td>0.194200</td>\n",
       "      <td>-0.290811</td>\n",
       "      <td>-0.404656</td>\n",
       "      <td>-0.795489</td>\n",
       "      <td>-0.281807</td>\n",
       "      <td>0.0</td>\n",
       "      <td>-0.974230</td>\n",
       "      <td>0.0</td>\n",
       "      <td>16.0</td>\n",
       "      <td>0.640508</td>\n",
       "      <td>0.0</td>\n",
       "      <td>1.0</td>\n",
       "      <td>0.0</td>\n",
       "      <td>0.0</td>\n",
       "      <td>0.0</td>\n",
       "      <td>0.0</td>\n",
       "      <td>1.0</td>\n",
       "      <td>0.0</td>\n",
       "    </tr>\n",
       "    <tr>\n",
       "      <th>1</th>\n",
       "      <td>14800</td>\n",
       "      <td>0</td>\n",
       "      <td>-0.115025</td>\n",
       "      <td>-0.339033</td>\n",
       "      <td>0.223520</td>\n",
       "      <td>-0.933617</td>\n",
       "      <td>2.521698</td>\n",
       "      <td>2.0</td>\n",
       "      <td>-0.293176</td>\n",
       "      <td>1.0</td>\n",
       "      <td>24.0</td>\n",
       "      <td>0.604520</td>\n",
       "      <td>0.0</td>\n",
       "      <td>1.0</td>\n",
       "      <td>0.0</td>\n",
       "      <td>0.0</td>\n",
       "      <td>0.0</td>\n",
       "      <td>0.0</td>\n",
       "      <td>0.0</td>\n",
       "      <td>1.0</td>\n",
       "    </tr>\n",
       "    <tr>\n",
       "      <th>2</th>\n",
       "      <td>11317</td>\n",
       "      <td>0</td>\n",
       "      <td>-0.883671</td>\n",
       "      <td>-0.313842</td>\n",
       "      <td>-0.260938</td>\n",
       "      <td>1.000169</td>\n",
       "      <td>-0.281807</td>\n",
       "      <td>0.0</td>\n",
       "      <td>-0.083367</td>\n",
       "      <td>0.0</td>\n",
       "      <td>28.0</td>\n",
       "      <td>-1.169625</td>\n",
       "      <td>0.0</td>\n",
       "      <td>0.0</td>\n",
       "      <td>1.0</td>\n",
       "      <td>0.0</td>\n",
       "      <td>0.0</td>\n",
       "      <td>0.0</td>\n",
       "      <td>0.0</td>\n",
       "      <td>1.0</td>\n",
       "    </tr>\n",
       "    <tr>\n",
       "      <th>3</th>\n",
       "      <td>13023</td>\n",
       "      <td>0</td>\n",
       "      <td>-1.122217</td>\n",
       "      <td>-0.035659</td>\n",
       "      <td>-0.129279</td>\n",
       "      <td>-1.209872</td>\n",
       "      <td>-0.281807</td>\n",
       "      <td>1.0</td>\n",
       "      <td>0.006322</td>\n",
       "      <td>0.0</td>\n",
       "      <td>32.0</td>\n",
       "      <td>0.109919</td>\n",
       "      <td>0.0</td>\n",
       "      <td>0.0</td>\n",
       "      <td>1.0</td>\n",
       "      <td>0.0</td>\n",
       "      <td>0.0</td>\n",
       "      <td>0.0</td>\n",
       "      <td>0.0</td>\n",
       "      <td>1.0</td>\n",
       "    </tr>\n",
       "    <tr>\n",
       "      <th>4</th>\n",
       "      <td>11652</td>\n",
       "      <td>0</td>\n",
       "      <td>-0.795321</td>\n",
       "      <td>0.089746</td>\n",
       "      <td>-0.170087</td>\n",
       "      <td>0.723914</td>\n",
       "      <td>-0.281807</td>\n",
       "      <td>0.0</td>\n",
       "      <td>-1.018770</td>\n",
       "      <td>0.0</td>\n",
       "      <td>8.0</td>\n",
       "      <td>-1.154322</td>\n",
       "      <td>0.0</td>\n",
       "      <td>1.0</td>\n",
       "      <td>0.0</td>\n",
       "      <td>0.0</td>\n",
       "      <td>0.0</td>\n",
       "      <td>0.0</td>\n",
       "      <td>1.0</td>\n",
       "      <td>0.0</td>\n",
       "    </tr>\n",
       "  </tbody>\n",
       "</table>\n",
       "</div>"
      ],
      "text/plain": [
       "      id  default  loan_amount  mortgage_amount  property_value  \\\n",
       "0  16537        0     0.194200        -0.290811       -0.404656   \n",
       "1  14800        0    -0.115025        -0.339033        0.223520   \n",
       "2  11317        0    -0.883671        -0.313842       -0.260938   \n",
       "3  13023        0    -1.122217        -0.035659       -0.129279   \n",
       "4  11652        0    -0.795321         0.089746       -0.170087   \n",
       "\n",
       "   occupation_length  derogatory_reports  late_payments  oldest_credit_line  \\\n",
       "0          -0.795489           -0.281807            0.0           -0.974230   \n",
       "1          -0.933617            2.521698            2.0           -0.293176   \n",
       "2           1.000169           -0.281807            0.0           -0.083367   \n",
       "3          -1.209872           -0.281807            1.0            0.006322   \n",
       "4           0.723914           -0.281807            0.0           -1.018770   \n",
       "\n",
       "   recent_credit  credit_number     ratio  occupation_Mgr  occupation_Office  \\\n",
       "0            0.0           16.0  0.640508             0.0                1.0   \n",
       "1            1.0           24.0  0.604520             0.0                1.0   \n",
       "2            0.0           28.0 -1.169625             0.0                0.0   \n",
       "3            0.0           32.0  0.109919             0.0                0.0   \n",
       "4            0.0            8.0 -1.154322             0.0                1.0   \n",
       "\n",
       "   occupation_Other  occupation_ProfExe  occupation_Sales  occupation_Self  \\\n",
       "0               0.0                 0.0               0.0              0.0   \n",
       "1               0.0                 0.0               0.0              0.0   \n",
       "2               1.0                 0.0               0.0              0.0   \n",
       "3               1.0                 0.0               0.0              0.0   \n",
       "4               0.0                 0.0               0.0              0.0   \n",
       "\n",
       "   loan_reason_DebtCon  loan_reason_HomeImp  \n",
       "0                  1.0                  0.0  \n",
       "1                  0.0                  1.0  \n",
       "2                  0.0                  1.0  \n",
       "3                  0.0                  1.0  \n",
       "4                  1.0                  0.0  "
      ]
     },
     "execution_count": 86,
     "metadata": {},
     "output_type": "execute_result"
    }
   ],
   "source": [
    "# One-hot Encoding\n",
    "encoder = OneHotEncoder(sparse_output=False)\n",
    "categorical_col = df[['occupation', 'loan_reason']]\n",
    "categorical_col_encoded = encoder.fit_transform(categorical_col)\n",
    "oneHot_df = pd.DataFrame(categorical_col_encoded, columns = encoder.get_feature_names_out(['occupation', 'loan_reason']))\n",
    "\n",
    "final_df = pd.concat([df, oneHot_df], axis=1)\n",
    "final_df = final_df.drop(columns=['loan_reason', 'occupation'])\n",
    "\n",
    "# Standardize\n",
    "cols_to_scale = ['loan_amount', 'mortgage_amount', 'property_value', 'oldest_credit_line','ratio', 'occupation_length', 'derogatory_reports']\n",
    "scaler = StandardScaler()\n",
    "final_df[cols_to_scale] = scaler.fit_transform(final_df[cols_to_scale])\n",
    "\n",
    "final_df.head()"
   ]
  },
  {
   "cell_type": "code",
   "execution_count": 87,
   "id": "0fbb24f8",
   "metadata": {},
   "outputs": [],
   "source": [
    "final_df.to_csv('cleaned_train_data.csv', index=False)"
   ]
  },
  {
   "cell_type": "markdown",
   "id": "38588975",
   "metadata": {},
   "source": [
    "# MODEL TRAINING"
   ]
  },
  {
   "cell_type": "code",
   "execution_count": 88,
   "id": "4ad78b37",
   "metadata": {},
   "outputs": [],
   "source": [
    "X = final_df.iloc[:,2:]\n",
    "y = final_df.iloc[:,1]"
   ]
  },
  {
   "cell_type": "code",
   "execution_count": 89,
   "id": "bb9f34ca",
   "metadata": {},
   "outputs": [],
   "source": [
    "X_train, X_test, y_train, y_test = train_test_split(X, y, test_size=0.3, random_state=1)"
   ]
  },
  {
   "cell_type": "code",
   "execution_count": 90,
   "id": "1082d034",
   "metadata": {},
   "outputs": [
    {
     "data": {
      "text/html": [
       "<style>#sk-container-id-2 {\n",
       "  /* Definition of color scheme common for light and dark mode */\n",
       "  --sklearn-color-text: black;\n",
       "  --sklearn-color-line: gray;\n",
       "  /* Definition of color scheme for unfitted estimators */\n",
       "  --sklearn-color-unfitted-level-0: #fff5e6;\n",
       "  --sklearn-color-unfitted-level-1: #f6e4d2;\n",
       "  --sklearn-color-unfitted-level-2: #ffe0b3;\n",
       "  --sklearn-color-unfitted-level-3: chocolate;\n",
       "  /* Definition of color scheme for fitted estimators */\n",
       "  --sklearn-color-fitted-level-0: #f0f8ff;\n",
       "  --sklearn-color-fitted-level-1: #d4ebff;\n",
       "  --sklearn-color-fitted-level-2: #b3dbfd;\n",
       "  --sklearn-color-fitted-level-3: cornflowerblue;\n",
       "\n",
       "  /* Specific color for light theme */\n",
       "  --sklearn-color-text-on-default-background: var(--sg-text-color, var(--theme-code-foreground, var(--jp-content-font-color1, black)));\n",
       "  --sklearn-color-background: var(--sg-background-color, var(--theme-background, var(--jp-layout-color0, white)));\n",
       "  --sklearn-color-border-box: var(--sg-text-color, var(--theme-code-foreground, var(--jp-content-font-color1, black)));\n",
       "  --sklearn-color-icon: #696969;\n",
       "\n",
       "  @media (prefers-color-scheme: dark) {\n",
       "    /* Redefinition of color scheme for dark theme */\n",
       "    --sklearn-color-text-on-default-background: var(--sg-text-color, var(--theme-code-foreground, var(--jp-content-font-color1, white)));\n",
       "    --sklearn-color-background: var(--sg-background-color, var(--theme-background, var(--jp-layout-color0, #111)));\n",
       "    --sklearn-color-border-box: var(--sg-text-color, var(--theme-code-foreground, var(--jp-content-font-color1, white)));\n",
       "    --sklearn-color-icon: #878787;\n",
       "  }\n",
       "}\n",
       "\n",
       "#sk-container-id-2 {\n",
       "  color: var(--sklearn-color-text);\n",
       "}\n",
       "\n",
       "#sk-container-id-2 pre {\n",
       "  padding: 0;\n",
       "}\n",
       "\n",
       "#sk-container-id-2 input.sk-hidden--visually {\n",
       "  border: 0;\n",
       "  clip: rect(1px 1px 1px 1px);\n",
       "  clip: rect(1px, 1px, 1px, 1px);\n",
       "  height: 1px;\n",
       "  margin: -1px;\n",
       "  overflow: hidden;\n",
       "  padding: 0;\n",
       "  position: absolute;\n",
       "  width: 1px;\n",
       "}\n",
       "\n",
       "#sk-container-id-2 div.sk-dashed-wrapped {\n",
       "  border: 1px dashed var(--sklearn-color-line);\n",
       "  margin: 0 0.4em 0.5em 0.4em;\n",
       "  box-sizing: border-box;\n",
       "  padding-bottom: 0.4em;\n",
       "  background-color: var(--sklearn-color-background);\n",
       "}\n",
       "\n",
       "#sk-container-id-2 div.sk-container {\n",
       "  /* jupyter's `normalize.less` sets `[hidden] { display: none; }`\n",
       "     but bootstrap.min.css set `[hidden] { display: none !important; }`\n",
       "     so we also need the `!important` here to be able to override the\n",
       "     default hidden behavior on the sphinx rendered scikit-learn.org.\n",
       "     See: https://github.com/scikit-learn/scikit-learn/issues/21755 */\n",
       "  display: inline-block !important;\n",
       "  position: relative;\n",
       "}\n",
       "\n",
       "#sk-container-id-2 div.sk-text-repr-fallback {\n",
       "  display: none;\n",
       "}\n",
       "\n",
       "div.sk-parallel-item,\n",
       "div.sk-serial,\n",
       "div.sk-item {\n",
       "  /* draw centered vertical line to link estimators */\n",
       "  background-image: linear-gradient(var(--sklearn-color-text-on-default-background), var(--sklearn-color-text-on-default-background));\n",
       "  background-size: 2px 100%;\n",
       "  background-repeat: no-repeat;\n",
       "  background-position: center center;\n",
       "}\n",
       "\n",
       "/* Parallel-specific style estimator block */\n",
       "\n",
       "#sk-container-id-2 div.sk-parallel-item::after {\n",
       "  content: \"\";\n",
       "  width: 100%;\n",
       "  border-bottom: 2px solid var(--sklearn-color-text-on-default-background);\n",
       "  flex-grow: 1;\n",
       "}\n",
       "\n",
       "#sk-container-id-2 div.sk-parallel {\n",
       "  display: flex;\n",
       "  align-items: stretch;\n",
       "  justify-content: center;\n",
       "  background-color: var(--sklearn-color-background);\n",
       "  position: relative;\n",
       "}\n",
       "\n",
       "#sk-container-id-2 div.sk-parallel-item {\n",
       "  display: flex;\n",
       "  flex-direction: column;\n",
       "}\n",
       "\n",
       "#sk-container-id-2 div.sk-parallel-item:first-child::after {\n",
       "  align-self: flex-end;\n",
       "  width: 50%;\n",
       "}\n",
       "\n",
       "#sk-container-id-2 div.sk-parallel-item:last-child::after {\n",
       "  align-self: flex-start;\n",
       "  width: 50%;\n",
       "}\n",
       "\n",
       "#sk-container-id-2 div.sk-parallel-item:only-child::after {\n",
       "  width: 0;\n",
       "}\n",
       "\n",
       "/* Serial-specific style estimator block */\n",
       "\n",
       "#sk-container-id-2 div.sk-serial {\n",
       "  display: flex;\n",
       "  flex-direction: column;\n",
       "  align-items: center;\n",
       "  background-color: var(--sklearn-color-background);\n",
       "  padding-right: 1em;\n",
       "  padding-left: 1em;\n",
       "}\n",
       "\n",
       "\n",
       "/* Toggleable style: style used for estimator/Pipeline/ColumnTransformer box that is\n",
       "clickable and can be expanded/collapsed.\n",
       "- Pipeline and ColumnTransformer use this feature and define the default style\n",
       "- Estimators will overwrite some part of the style using the `sk-estimator` class\n",
       "*/\n",
       "\n",
       "/* Pipeline and ColumnTransformer style (default) */\n",
       "\n",
       "#sk-container-id-2 div.sk-toggleable {\n",
       "  /* Default theme specific background. It is overwritten whether we have a\n",
       "  specific estimator or a Pipeline/ColumnTransformer */\n",
       "  background-color: var(--sklearn-color-background);\n",
       "}\n",
       "\n",
       "/* Toggleable label */\n",
       "#sk-container-id-2 label.sk-toggleable__label {\n",
       "  cursor: pointer;\n",
       "  display: block;\n",
       "  width: 100%;\n",
       "  margin-bottom: 0;\n",
       "  padding: 0.5em;\n",
       "  box-sizing: border-box;\n",
       "  text-align: center;\n",
       "}\n",
       "\n",
       "#sk-container-id-2 label.sk-toggleable__label-arrow:before {\n",
       "  /* Arrow on the left of the label */\n",
       "  content: \"▸\";\n",
       "  float: left;\n",
       "  margin-right: 0.25em;\n",
       "  color: var(--sklearn-color-icon);\n",
       "}\n",
       "\n",
       "#sk-container-id-2 label.sk-toggleable__label-arrow:hover:before {\n",
       "  color: var(--sklearn-color-text);\n",
       "}\n",
       "\n",
       "/* Toggleable content - dropdown */\n",
       "\n",
       "#sk-container-id-2 div.sk-toggleable__content {\n",
       "  max-height: 0;\n",
       "  max-width: 0;\n",
       "  overflow: hidden;\n",
       "  text-align: left;\n",
       "  /* unfitted */\n",
       "  background-color: var(--sklearn-color-unfitted-level-0);\n",
       "}\n",
       "\n",
       "#sk-container-id-2 div.sk-toggleable__content.fitted {\n",
       "  /* fitted */\n",
       "  background-color: var(--sklearn-color-fitted-level-0);\n",
       "}\n",
       "\n",
       "#sk-container-id-2 div.sk-toggleable__content pre {\n",
       "  margin: 0.2em;\n",
       "  border-radius: 0.25em;\n",
       "  color: var(--sklearn-color-text);\n",
       "  /* unfitted */\n",
       "  background-color: var(--sklearn-color-unfitted-level-0);\n",
       "}\n",
       "\n",
       "#sk-container-id-2 div.sk-toggleable__content.fitted pre {\n",
       "  /* unfitted */\n",
       "  background-color: var(--sklearn-color-fitted-level-0);\n",
       "}\n",
       "\n",
       "#sk-container-id-2 input.sk-toggleable__control:checked~div.sk-toggleable__content {\n",
       "  /* Expand drop-down */\n",
       "  max-height: 200px;\n",
       "  max-width: 100%;\n",
       "  overflow: auto;\n",
       "}\n",
       "\n",
       "#sk-container-id-2 input.sk-toggleable__control:checked~label.sk-toggleable__label-arrow:before {\n",
       "  content: \"▾\";\n",
       "}\n",
       "\n",
       "/* Pipeline/ColumnTransformer-specific style */\n",
       "\n",
       "#sk-container-id-2 div.sk-label input.sk-toggleable__control:checked~label.sk-toggleable__label {\n",
       "  color: var(--sklearn-color-text);\n",
       "  background-color: var(--sklearn-color-unfitted-level-2);\n",
       "}\n",
       "\n",
       "#sk-container-id-2 div.sk-label.fitted input.sk-toggleable__control:checked~label.sk-toggleable__label {\n",
       "  background-color: var(--sklearn-color-fitted-level-2);\n",
       "}\n",
       "\n",
       "/* Estimator-specific style */\n",
       "\n",
       "/* Colorize estimator box */\n",
       "#sk-container-id-2 div.sk-estimator input.sk-toggleable__control:checked~label.sk-toggleable__label {\n",
       "  /* unfitted */\n",
       "  background-color: var(--sklearn-color-unfitted-level-2);\n",
       "}\n",
       "\n",
       "#sk-container-id-2 div.sk-estimator.fitted input.sk-toggleable__control:checked~label.sk-toggleable__label {\n",
       "  /* fitted */\n",
       "  background-color: var(--sklearn-color-fitted-level-2);\n",
       "}\n",
       "\n",
       "#sk-container-id-2 div.sk-label label.sk-toggleable__label,\n",
       "#sk-container-id-2 div.sk-label label {\n",
       "  /* The background is the default theme color */\n",
       "  color: var(--sklearn-color-text-on-default-background);\n",
       "}\n",
       "\n",
       "/* On hover, darken the color of the background */\n",
       "#sk-container-id-2 div.sk-label:hover label.sk-toggleable__label {\n",
       "  color: var(--sklearn-color-text);\n",
       "  background-color: var(--sklearn-color-unfitted-level-2);\n",
       "}\n",
       "\n",
       "/* Label box, darken color on hover, fitted */\n",
       "#sk-container-id-2 div.sk-label.fitted:hover label.sk-toggleable__label.fitted {\n",
       "  color: var(--sklearn-color-text);\n",
       "  background-color: var(--sklearn-color-fitted-level-2);\n",
       "}\n",
       "\n",
       "/* Estimator label */\n",
       "\n",
       "#sk-container-id-2 div.sk-label label {\n",
       "  font-family: monospace;\n",
       "  font-weight: bold;\n",
       "  display: inline-block;\n",
       "  line-height: 1.2em;\n",
       "}\n",
       "\n",
       "#sk-container-id-2 div.sk-label-container {\n",
       "  text-align: center;\n",
       "}\n",
       "\n",
       "/* Estimator-specific */\n",
       "#sk-container-id-2 div.sk-estimator {\n",
       "  font-family: monospace;\n",
       "  border: 1px dotted var(--sklearn-color-border-box);\n",
       "  border-radius: 0.25em;\n",
       "  box-sizing: border-box;\n",
       "  margin-bottom: 0.5em;\n",
       "  /* unfitted */\n",
       "  background-color: var(--sklearn-color-unfitted-level-0);\n",
       "}\n",
       "\n",
       "#sk-container-id-2 div.sk-estimator.fitted {\n",
       "  /* fitted */\n",
       "  background-color: var(--sklearn-color-fitted-level-0);\n",
       "}\n",
       "\n",
       "/* on hover */\n",
       "#sk-container-id-2 div.sk-estimator:hover {\n",
       "  /* unfitted */\n",
       "  background-color: var(--sklearn-color-unfitted-level-2);\n",
       "}\n",
       "\n",
       "#sk-container-id-2 div.sk-estimator.fitted:hover {\n",
       "  /* fitted */\n",
       "  background-color: var(--sklearn-color-fitted-level-2);\n",
       "}\n",
       "\n",
       "/* Specification for estimator info (e.g. \"i\" and \"?\") */\n",
       "\n",
       "/* Common style for \"i\" and \"?\" */\n",
       "\n",
       ".sk-estimator-doc-link,\n",
       "a:link.sk-estimator-doc-link,\n",
       "a:visited.sk-estimator-doc-link {\n",
       "  float: right;\n",
       "  font-size: smaller;\n",
       "  line-height: 1em;\n",
       "  font-family: monospace;\n",
       "  background-color: var(--sklearn-color-background);\n",
       "  border-radius: 1em;\n",
       "  height: 1em;\n",
       "  width: 1em;\n",
       "  text-decoration: none !important;\n",
       "  margin-left: 1ex;\n",
       "  /* unfitted */\n",
       "  border: var(--sklearn-color-unfitted-level-1) 1pt solid;\n",
       "  color: var(--sklearn-color-unfitted-level-1);\n",
       "}\n",
       "\n",
       ".sk-estimator-doc-link.fitted,\n",
       "a:link.sk-estimator-doc-link.fitted,\n",
       "a:visited.sk-estimator-doc-link.fitted {\n",
       "  /* fitted */\n",
       "  border: var(--sklearn-color-fitted-level-1) 1pt solid;\n",
       "  color: var(--sklearn-color-fitted-level-1);\n",
       "}\n",
       "\n",
       "/* On hover */\n",
       "div.sk-estimator:hover .sk-estimator-doc-link:hover,\n",
       ".sk-estimator-doc-link:hover,\n",
       "div.sk-label-container:hover .sk-estimator-doc-link:hover,\n",
       ".sk-estimator-doc-link:hover {\n",
       "  /* unfitted */\n",
       "  background-color: var(--sklearn-color-unfitted-level-3);\n",
       "  color: var(--sklearn-color-background);\n",
       "  text-decoration: none;\n",
       "}\n",
       "\n",
       "div.sk-estimator.fitted:hover .sk-estimator-doc-link.fitted:hover,\n",
       ".sk-estimator-doc-link.fitted:hover,\n",
       "div.sk-label-container:hover .sk-estimator-doc-link.fitted:hover,\n",
       ".sk-estimator-doc-link.fitted:hover {\n",
       "  /* fitted */\n",
       "  background-color: var(--sklearn-color-fitted-level-3);\n",
       "  color: var(--sklearn-color-background);\n",
       "  text-decoration: none;\n",
       "}\n",
       "\n",
       "/* Span, style for the box shown on hovering the info icon */\n",
       ".sk-estimator-doc-link span {\n",
       "  display: none;\n",
       "  z-index: 9999;\n",
       "  position: relative;\n",
       "  font-weight: normal;\n",
       "  right: .2ex;\n",
       "  padding: .5ex;\n",
       "  margin: .5ex;\n",
       "  width: min-content;\n",
       "  min-width: 20ex;\n",
       "  max-width: 50ex;\n",
       "  color: var(--sklearn-color-text);\n",
       "  box-shadow: 2pt 2pt 4pt #999;\n",
       "  /* unfitted */\n",
       "  background: var(--sklearn-color-unfitted-level-0);\n",
       "  border: .5pt solid var(--sklearn-color-unfitted-level-3);\n",
       "}\n",
       "\n",
       ".sk-estimator-doc-link.fitted span {\n",
       "  /* fitted */\n",
       "  background: var(--sklearn-color-fitted-level-0);\n",
       "  border: var(--sklearn-color-fitted-level-3);\n",
       "}\n",
       "\n",
       ".sk-estimator-doc-link:hover span {\n",
       "  display: block;\n",
       "}\n",
       "\n",
       "/* \"?\"-specific style due to the `<a>` HTML tag */\n",
       "\n",
       "#sk-container-id-2 a.estimator_doc_link {\n",
       "  float: right;\n",
       "  font-size: 1rem;\n",
       "  line-height: 1em;\n",
       "  font-family: monospace;\n",
       "  background-color: var(--sklearn-color-background);\n",
       "  border-radius: 1rem;\n",
       "  height: 1rem;\n",
       "  width: 1rem;\n",
       "  text-decoration: none;\n",
       "  /* unfitted */\n",
       "  color: var(--sklearn-color-unfitted-level-1);\n",
       "  border: var(--sklearn-color-unfitted-level-1) 1pt solid;\n",
       "}\n",
       "\n",
       "#sk-container-id-2 a.estimator_doc_link.fitted {\n",
       "  /* fitted */\n",
       "  border: var(--sklearn-color-fitted-level-1) 1pt solid;\n",
       "  color: var(--sklearn-color-fitted-level-1);\n",
       "}\n",
       "\n",
       "/* On hover */\n",
       "#sk-container-id-2 a.estimator_doc_link:hover {\n",
       "  /* unfitted */\n",
       "  background-color: var(--sklearn-color-unfitted-level-3);\n",
       "  color: var(--sklearn-color-background);\n",
       "  text-decoration: none;\n",
       "}\n",
       "\n",
       "#sk-container-id-2 a.estimator_doc_link.fitted:hover {\n",
       "  /* fitted */\n",
       "  background-color: var(--sklearn-color-fitted-level-3);\n",
       "}\n",
       "</style><div id=\"sk-container-id-2\" class=\"sk-top-container\"><div class=\"sk-text-repr-fallback\"><pre>GridSearchCV(estimator=SVC(random_state=1),\n",
       "             param_grid={&#x27;C&#x27;: [1, 5, 10],\n",
       "                         &#x27;gamma&#x27;: [1, 0.1, 0.01, 0.001, 0.0001]})</pre><b>In a Jupyter environment, please rerun this cell to show the HTML representation or trust the notebook. <br />On GitHub, the HTML representation is unable to render, please try loading this page with nbviewer.org.</b></div><div class=\"sk-container\" hidden><div class=\"sk-item sk-dashed-wrapped\"><div class=\"sk-label-container\"><div class=\"sk-label fitted sk-toggleable\"><input class=\"sk-toggleable__control sk-hidden--visually\" id=\"sk-estimator-id-4\" type=\"checkbox\" ><label for=\"sk-estimator-id-4\" class=\"sk-toggleable__label fitted sk-toggleable__label-arrow fitted\">&nbsp;&nbsp;GridSearchCV<a class=\"sk-estimator-doc-link fitted\" rel=\"noreferrer\" target=\"_blank\" href=\"https://scikit-learn.org/1.4/modules/generated/sklearn.model_selection.GridSearchCV.html\">?<span>Documentation for GridSearchCV</span></a><span class=\"sk-estimator-doc-link fitted\">i<span>Fitted</span></span></label><div class=\"sk-toggleable__content fitted\"><pre>GridSearchCV(estimator=SVC(random_state=1),\n",
       "             param_grid={&#x27;C&#x27;: [1, 5, 10],\n",
       "                         &#x27;gamma&#x27;: [1, 0.1, 0.01, 0.001, 0.0001]})</pre></div> </div></div><div class=\"sk-parallel\"><div class=\"sk-parallel-item\"><div class=\"sk-item\"><div class=\"sk-label-container\"><div class=\"sk-label fitted sk-toggleable\"><input class=\"sk-toggleable__control sk-hidden--visually\" id=\"sk-estimator-id-5\" type=\"checkbox\" ><label for=\"sk-estimator-id-5\" class=\"sk-toggleable__label fitted sk-toggleable__label-arrow fitted\">estimator: SVC</label><div class=\"sk-toggleable__content fitted\"><pre>SVC(random_state=1)</pre></div> </div></div><div class=\"sk-serial\"><div class=\"sk-item\"><div class=\"sk-estimator fitted sk-toggleable\"><input class=\"sk-toggleable__control sk-hidden--visually\" id=\"sk-estimator-id-6\" type=\"checkbox\" ><label for=\"sk-estimator-id-6\" class=\"sk-toggleable__label fitted sk-toggleable__label-arrow fitted\">&nbsp;SVC<a class=\"sk-estimator-doc-link fitted\" rel=\"noreferrer\" target=\"_blank\" href=\"https://scikit-learn.org/1.4/modules/generated/sklearn.svm.SVC.html\">?<span>Documentation for SVC</span></a></label><div class=\"sk-toggleable__content fitted\"><pre>SVC(random_state=1)</pre></div> </div></div></div></div></div></div></div></div></div>"
      ],
      "text/plain": [
       "GridSearchCV(estimator=SVC(random_state=1),\n",
       "             param_grid={'C': [1, 5, 10],\n",
       "                         'gamma': [1, 0.1, 0.01, 0.001, 0.0001]})"
      ]
     },
     "execution_count": 90,
     "metadata": {},
     "output_type": "execute_result"
    }
   ],
   "source": [
    "parameters = {'gamma': [1, 0.1, 0.01, 0.001, 0.0001],\n",
    "              'C': [1, 5, 10]}\n",
    "svc_model = SVC(kernel = 'rbf', random_state = 1)\n",
    "model = GridSearchCV(svc_model, parameters)\n",
    "model.fit(X_train, y_train)"
   ]
  },
  {
   "cell_type": "code",
   "execution_count": 91,
   "id": "08ad513d",
   "metadata": {},
   "outputs": [
    {
     "name": "stdout",
     "output_type": "stream",
     "text": [
      "These are the best parameter you should choose in your model: \n",
      "{'C': 10, 'gamma': 0.1}\n",
      "SVC(C=10, gamma=0.1, random_state=1)\n"
     ]
    }
   ],
   "source": [
    "print(\"These are the best parameter you should choose in your model: \")\n",
    "print(model.best_params_)\n",
    "print(model.best_estimator_)"
   ]
  },
  {
   "cell_type": "code",
   "execution_count": 92,
   "id": "83e9aa5f",
   "metadata": {},
   "outputs": [
    {
     "name": "stdout",
     "output_type": "stream",
     "text": [
      "Accuracy: 0.9307692307692308\n",
      "Classification Report:\n",
      "              precision    recall  f1-score   support\n",
      "\n",
      "           0       0.93      0.99      0.96      1254\n",
      "           1       0.94      0.69      0.80       306\n",
      "\n",
      "    accuracy                           0.93      1560\n",
      "   macro avg       0.93      0.84      0.88      1560\n",
      "weighted avg       0.93      0.93      0.93      1560\n",
      "\n"
     ]
    }
   ],
   "source": [
    "# Predicting the Test set results\n",
    "y_pred = model.predict(X_test)\n",
    "\n",
    "# Evaluating the Model\n",
    "print(\"Accuracy:\", accuracy_score(y_test, y_pred))\n",
    "print(\"Classification Report:\")\n",
    "print(classification_report(y_test, y_pred))\n"
   ]
  },
  {
   "cell_type": "markdown",
   "id": "5afcb96a",
   "metadata": {},
   "source": [
    "# PREDICTION & SUBMISSION"
   ]
  },
  {
   "cell_type": "code",
   "execution_count": 93,
   "id": "1fdf2a45",
   "metadata": {},
   "outputs": [
    {
     "data": {
      "application/vnd.microsoft.datawrangler.viewer.v0+json": {
       "columns": [
        {
         "name": "index",
         "rawType": "int64",
         "type": "integer"
        },
        {
         "name": "id",
         "rawType": "int64",
         "type": "integer"
        },
        {
         "name": "loan_amount",
         "rawType": "int64",
         "type": "integer"
        },
        {
         "name": "mortgage_amount",
         "rawType": "float64",
         "type": "float"
        },
        {
         "name": "property_value",
         "rawType": "float64",
         "type": "float"
        },
        {
         "name": "loan_reason",
         "rawType": "object",
         "type": "unknown"
        },
        {
         "name": "occupation",
         "rawType": "object",
         "type": "unknown"
        },
        {
         "name": "occupation_length",
         "rawType": "float64",
         "type": "float"
        },
        {
         "name": "derogatory_reports",
         "rawType": "float64",
         "type": "float"
        },
        {
         "name": "late_payments",
         "rawType": "float64",
         "type": "float"
        },
        {
         "name": "oldest_credit_line",
         "rawType": "float64",
         "type": "float"
        },
        {
         "name": "recent_credit",
         "rawType": "float64",
         "type": "float"
        },
        {
         "name": "credit_number",
         "rawType": "float64",
         "type": "float"
        },
        {
         "name": "ratio",
         "rawType": "float64",
         "type": "float"
        }
       ],
       "ref": "b0547d6d-af3e-48af-b3c9-89c2cbc8c811",
       "rows": [
        [
         "0",
         "12816",
         "28100",
         "32470.0",
         "54522.0",
         "DebtCon",
         "Other",
         "35.0",
         "0.0",
         "0.0",
         "295.4966835",
         "0.0",
         "23.0",
         "38.7994829"
        ],
        [
         "1",
         "11678",
         "10500",
         "57880.0",
         "66802.0",
         "DebtCon",
         "Other",
         "2.0",
         "0.0",
         "0.0",
         "94.59842526",
         "8.0",
         "21.0",
         "45.46476584"
        ],
        [
         "2",
         "13568",
         "10900",
         null,
         "76207.0",
         null,
         null,
         null,
         null,
         null,
         null,
         null,
         null,
         "22.3926116"
        ],
        [
         "3",
         "16525",
         "50000",
         "44000.0",
         "59000.0",
         "DebtCon",
         "Office",
         "12.0",
         "0.0",
         "1.0",
         "102.5",
         "2.0",
         "26.0",
         null
        ],
        [
         "4",
         "16160",
         "7500",
         null,
         "26850.0",
         "HomeImp",
         "Office",
         "20.0",
         "0.0",
         "0.0",
         "185.6333333",
         "1.0",
         "16.0",
         null
        ]
       ],
       "shape": {
        "columns": 13,
        "rows": 5
       }
      },
      "text/html": [
       "<div>\n",
       "<style scoped>\n",
       "    .dataframe tbody tr th:only-of-type {\n",
       "        vertical-align: middle;\n",
       "    }\n",
       "\n",
       "    .dataframe tbody tr th {\n",
       "        vertical-align: top;\n",
       "    }\n",
       "\n",
       "    .dataframe thead th {\n",
       "        text-align: right;\n",
       "    }\n",
       "</style>\n",
       "<table border=\"1\" class=\"dataframe\">\n",
       "  <thead>\n",
       "    <tr style=\"text-align: right;\">\n",
       "      <th></th>\n",
       "      <th>id</th>\n",
       "      <th>loan_amount</th>\n",
       "      <th>mortgage_amount</th>\n",
       "      <th>property_value</th>\n",
       "      <th>loan_reason</th>\n",
       "      <th>occupation</th>\n",
       "      <th>occupation_length</th>\n",
       "      <th>derogatory_reports</th>\n",
       "      <th>late_payments</th>\n",
       "      <th>oldest_credit_line</th>\n",
       "      <th>recent_credit</th>\n",
       "      <th>credit_number</th>\n",
       "      <th>ratio</th>\n",
       "    </tr>\n",
       "  </thead>\n",
       "  <tbody>\n",
       "    <tr>\n",
       "      <th>0</th>\n",
       "      <td>12816</td>\n",
       "      <td>28100</td>\n",
       "      <td>32470.0</td>\n",
       "      <td>54522.0</td>\n",
       "      <td>DebtCon</td>\n",
       "      <td>Other</td>\n",
       "      <td>35.0</td>\n",
       "      <td>0.0</td>\n",
       "      <td>0.0</td>\n",
       "      <td>295.496684</td>\n",
       "      <td>0.0</td>\n",
       "      <td>23.0</td>\n",
       "      <td>38.799483</td>\n",
       "    </tr>\n",
       "    <tr>\n",
       "      <th>1</th>\n",
       "      <td>11678</td>\n",
       "      <td>10500</td>\n",
       "      <td>57880.0</td>\n",
       "      <td>66802.0</td>\n",
       "      <td>DebtCon</td>\n",
       "      <td>Other</td>\n",
       "      <td>2.0</td>\n",
       "      <td>0.0</td>\n",
       "      <td>0.0</td>\n",
       "      <td>94.598425</td>\n",
       "      <td>8.0</td>\n",
       "      <td>21.0</td>\n",
       "      <td>45.464766</td>\n",
       "    </tr>\n",
       "    <tr>\n",
       "      <th>2</th>\n",
       "      <td>13568</td>\n",
       "      <td>10900</td>\n",
       "      <td>NaN</td>\n",
       "      <td>76207.0</td>\n",
       "      <td>NaN</td>\n",
       "      <td>NaN</td>\n",
       "      <td>NaN</td>\n",
       "      <td>NaN</td>\n",
       "      <td>NaN</td>\n",
       "      <td>NaN</td>\n",
       "      <td>NaN</td>\n",
       "      <td>NaN</td>\n",
       "      <td>22.392612</td>\n",
       "    </tr>\n",
       "    <tr>\n",
       "      <th>3</th>\n",
       "      <td>16525</td>\n",
       "      <td>50000</td>\n",
       "      <td>44000.0</td>\n",
       "      <td>59000.0</td>\n",
       "      <td>DebtCon</td>\n",
       "      <td>Office</td>\n",
       "      <td>12.0</td>\n",
       "      <td>0.0</td>\n",
       "      <td>1.0</td>\n",
       "      <td>102.500000</td>\n",
       "      <td>2.0</td>\n",
       "      <td>26.0</td>\n",
       "      <td>NaN</td>\n",
       "    </tr>\n",
       "    <tr>\n",
       "      <th>4</th>\n",
       "      <td>16160</td>\n",
       "      <td>7500</td>\n",
       "      <td>NaN</td>\n",
       "      <td>26850.0</td>\n",
       "      <td>HomeImp</td>\n",
       "      <td>Office</td>\n",
       "      <td>20.0</td>\n",
       "      <td>0.0</td>\n",
       "      <td>0.0</td>\n",
       "      <td>185.633333</td>\n",
       "      <td>1.0</td>\n",
       "      <td>16.0</td>\n",
       "      <td>NaN</td>\n",
       "    </tr>\n",
       "  </tbody>\n",
       "</table>\n",
       "</div>"
      ],
      "text/plain": [
       "      id  loan_amount  mortgage_amount  property_value loan_reason occupation  \\\n",
       "0  12816        28100          32470.0         54522.0     DebtCon      Other   \n",
       "1  11678        10500          57880.0         66802.0     DebtCon      Other   \n",
       "2  13568        10900              NaN         76207.0         NaN        NaN   \n",
       "3  16525        50000          44000.0         59000.0     DebtCon     Office   \n",
       "4  16160         7500              NaN         26850.0     HomeImp     Office   \n",
       "\n",
       "   occupation_length  derogatory_reports  late_payments  oldest_credit_line  \\\n",
       "0               35.0                 0.0            0.0          295.496684   \n",
       "1                2.0                 0.0            0.0           94.598425   \n",
       "2                NaN                 NaN            NaN                 NaN   \n",
       "3               12.0                 0.0            1.0          102.500000   \n",
       "4               20.0                 0.0            0.0          185.633333   \n",
       "\n",
       "   recent_credit  credit_number      ratio  \n",
       "0            0.0           23.0  38.799483  \n",
       "1            8.0           21.0  45.464766  \n",
       "2            NaN            NaN  22.392612  \n",
       "3            2.0           26.0        NaN  \n",
       "4            1.0           16.0        NaN  "
      ]
     },
     "execution_count": 93,
     "metadata": {},
     "output_type": "execute_result"
    }
   ],
   "source": [
    "test = pd.read_csv('hmeq_test.csv')\n",
    "test.head()"
   ]
  },
  {
   "cell_type": "code",
   "execution_count": 94,
   "id": "f996693e",
   "metadata": {},
   "outputs": [
    {
     "data": {
      "application/vnd.microsoft.datawrangler.viewer.v0+json": {
       "columns": [
        {
         "name": "index",
         "rawType": "object",
         "type": "string"
        },
        {
         "name": "0",
         "rawType": "int64",
         "type": "integer"
        }
       ],
       "ref": "f1e2ce33-744c-4496-88b6-c78f94c76991",
       "rows": [
        [
         "id",
         "0"
        ],
        [
         "loan_amount",
         "0"
        ],
        [
         "mortgage_amount",
         "67"
        ],
        [
         "property_value",
         "17"
        ],
        [
         "loan_reason",
         "29"
        ],
        [
         "occupation",
         "38"
        ],
        [
         "occupation_length",
         "65"
        ],
        [
         "derogatory_reports",
         "89"
        ],
        [
         "late_payments",
         "77"
        ],
        [
         "oldest_credit_line",
         "41"
        ],
        [
         "recent_credit",
         "74"
        ],
        [
         "credit_number",
         "26"
        ],
        [
         "ratio",
         "154"
        ]
       ],
       "shape": {
        "columns": 1,
        "rows": 13
       }
      },
      "text/plain": [
       "id                      0\n",
       "loan_amount             0\n",
       "mortgage_amount        67\n",
       "property_value         17\n",
       "loan_reason            29\n",
       "occupation             38\n",
       "occupation_length      65\n",
       "derogatory_reports     89\n",
       "late_payments          77\n",
       "oldest_credit_line     41\n",
       "recent_credit          74\n",
       "credit_number          26\n",
       "ratio                 154\n",
       "dtype: int64"
      ]
     },
     "execution_count": 94,
     "metadata": {},
     "output_type": "execute_result"
    }
   ],
   "source": [
    "test.isna().sum()"
   ]
  },
  {
   "cell_type": "code",
   "execution_count": 95,
   "id": "e29b04b9",
   "metadata": {},
   "outputs": [
    {
     "data": {
      "application/vnd.microsoft.datawrangler.viewer.v0+json": {
       "columns": [
        {
         "name": "index",
         "rawType": "int64",
         "type": "integer"
        },
        {
         "name": "id",
         "rawType": "int64",
         "type": "integer"
        },
        {
         "name": "loan_amount",
         "rawType": "int64",
         "type": "integer"
        },
        {
         "name": "mortgage_amount",
         "rawType": "float64",
         "type": "float"
        },
        {
         "name": "property_value",
         "rawType": "float64",
         "type": "float"
        },
        {
         "name": "loan_reason",
         "rawType": "object",
         "type": "string"
        },
        {
         "name": "occupation",
         "rawType": "object",
         "type": "string"
        },
        {
         "name": "occupation_length",
         "rawType": "float64",
         "type": "float"
        },
        {
         "name": "derogatory_reports",
         "rawType": "float64",
         "type": "float"
        },
        {
         "name": "late_payments",
         "rawType": "float64",
         "type": "float"
        },
        {
         "name": "oldest_credit_line",
         "rawType": "float64",
         "type": "float"
        },
        {
         "name": "recent_credit",
         "rawType": "float64",
         "type": "float"
        },
        {
         "name": "credit_number",
         "rawType": "float64",
         "type": "float"
        },
        {
         "name": "ratio",
         "rawType": "float64",
         "type": "float"
        }
       ],
       "ref": "d04ae045-5db6-439c-9c46-29ce1a013381",
       "rows": [
        [
         "0",
         "12816",
         "28100",
         "32470.0",
         "54522.0",
         "DebtCon",
         "Other",
         "35.0",
         "0.0",
         "0.0",
         "295.4966835",
         "0.0",
         "23.0",
         "38.7994829"
        ],
        [
         "1",
         "11678",
         "10500",
         "57880.0",
         "66802.0",
         "DebtCon",
         "Other",
         "2.0",
         "0.0",
         "0.0",
         "94.59842526",
         "8.0",
         "21.0",
         "45.46476584"
        ],
        [
         "2",
         "13568",
         "10900",
         "53344.899999999994",
         "76207.0",
         "HomeImp",
         "Other",
         "8.0",
         null,
         "6.0",
         "171.6798111",
         "1.0",
         "20.0",
         "22.3926116"
        ],
        [
         "3",
         "16525",
         "50000",
         "44000.0",
         "59000.0",
         "DebtCon",
         "Office",
         "12.0",
         "0.0",
         "1.0",
         "102.5",
         "2.0",
         "26.0",
         "34.471620965"
        ],
        [
         "4",
         "16160",
         "7500",
         "18795.0",
         "26850.0",
         "HomeImp",
         "Office",
         "20.0",
         "0.0",
         "0.0",
         "185.6333333",
         "1.0",
         "16.0",
         "34.471620965"
        ]
       ],
       "shape": {
        "columns": 13,
        "rows": 5
       }
      },
      "text/html": [
       "<div>\n",
       "<style scoped>\n",
       "    .dataframe tbody tr th:only-of-type {\n",
       "        vertical-align: middle;\n",
       "    }\n",
       "\n",
       "    .dataframe tbody tr th {\n",
       "        vertical-align: top;\n",
       "    }\n",
       "\n",
       "    .dataframe thead th {\n",
       "        text-align: right;\n",
       "    }\n",
       "</style>\n",
       "<table border=\"1\" class=\"dataframe\">\n",
       "  <thead>\n",
       "    <tr style=\"text-align: right;\">\n",
       "      <th></th>\n",
       "      <th>id</th>\n",
       "      <th>loan_amount</th>\n",
       "      <th>mortgage_amount</th>\n",
       "      <th>property_value</th>\n",
       "      <th>loan_reason</th>\n",
       "      <th>occupation</th>\n",
       "      <th>occupation_length</th>\n",
       "      <th>derogatory_reports</th>\n",
       "      <th>late_payments</th>\n",
       "      <th>oldest_credit_line</th>\n",
       "      <th>recent_credit</th>\n",
       "      <th>credit_number</th>\n",
       "      <th>ratio</th>\n",
       "    </tr>\n",
       "  </thead>\n",
       "  <tbody>\n",
       "    <tr>\n",
       "      <th>0</th>\n",
       "      <td>12816</td>\n",
       "      <td>28100</td>\n",
       "      <td>32470.0</td>\n",
       "      <td>54522.0</td>\n",
       "      <td>DebtCon</td>\n",
       "      <td>Other</td>\n",
       "      <td>35.0</td>\n",
       "      <td>0.0</td>\n",
       "      <td>0.0</td>\n",
       "      <td>295.496684</td>\n",
       "      <td>0.0</td>\n",
       "      <td>23.0</td>\n",
       "      <td>38.799483</td>\n",
       "    </tr>\n",
       "    <tr>\n",
       "      <th>1</th>\n",
       "      <td>11678</td>\n",
       "      <td>10500</td>\n",
       "      <td>57880.0</td>\n",
       "      <td>66802.0</td>\n",
       "      <td>DebtCon</td>\n",
       "      <td>Other</td>\n",
       "      <td>2.0</td>\n",
       "      <td>0.0</td>\n",
       "      <td>0.0</td>\n",
       "      <td>94.598425</td>\n",
       "      <td>8.0</td>\n",
       "      <td>21.0</td>\n",
       "      <td>45.464766</td>\n",
       "    </tr>\n",
       "    <tr>\n",
       "      <th>2</th>\n",
       "      <td>13568</td>\n",
       "      <td>10900</td>\n",
       "      <td>53344.9</td>\n",
       "      <td>76207.0</td>\n",
       "      <td>HomeImp</td>\n",
       "      <td>Other</td>\n",
       "      <td>8.0</td>\n",
       "      <td>NaN</td>\n",
       "      <td>6.0</td>\n",
       "      <td>171.679811</td>\n",
       "      <td>1.0</td>\n",
       "      <td>20.0</td>\n",
       "      <td>22.392612</td>\n",
       "    </tr>\n",
       "    <tr>\n",
       "      <th>3</th>\n",
       "      <td>16525</td>\n",
       "      <td>50000</td>\n",
       "      <td>44000.0</td>\n",
       "      <td>59000.0</td>\n",
       "      <td>DebtCon</td>\n",
       "      <td>Office</td>\n",
       "      <td>12.0</td>\n",
       "      <td>0.0</td>\n",
       "      <td>1.0</td>\n",
       "      <td>102.500000</td>\n",
       "      <td>2.0</td>\n",
       "      <td>26.0</td>\n",
       "      <td>34.471621</td>\n",
       "    </tr>\n",
       "    <tr>\n",
       "      <th>4</th>\n",
       "      <td>16160</td>\n",
       "      <td>7500</td>\n",
       "      <td>18795.0</td>\n",
       "      <td>26850.0</td>\n",
       "      <td>HomeImp</td>\n",
       "      <td>Office</td>\n",
       "      <td>20.0</td>\n",
       "      <td>0.0</td>\n",
       "      <td>0.0</td>\n",
       "      <td>185.633333</td>\n",
       "      <td>1.0</td>\n",
       "      <td>16.0</td>\n",
       "      <td>34.471621</td>\n",
       "    </tr>\n",
       "  </tbody>\n",
       "</table>\n",
       "</div>"
      ],
      "text/plain": [
       "      id  loan_amount  mortgage_amount  property_value loan_reason occupation  \\\n",
       "0  12816        28100          32470.0         54522.0     DebtCon      Other   \n",
       "1  11678        10500          57880.0         66802.0     DebtCon      Other   \n",
       "2  13568        10900          53344.9         76207.0     HomeImp      Other   \n",
       "3  16525        50000          44000.0         59000.0     DebtCon     Office   \n",
       "4  16160         7500          18795.0         26850.0     HomeImp     Office   \n",
       "\n",
       "   occupation_length  derogatory_reports  late_payments  oldest_credit_line  \\\n",
       "0               35.0                 0.0            0.0          295.496684   \n",
       "1                2.0                 0.0            0.0           94.598425   \n",
       "2                8.0                 NaN            6.0          171.679811   \n",
       "3               12.0                 0.0            1.0          102.500000   \n",
       "4               20.0                 0.0            0.0          185.633333   \n",
       "\n",
       "   recent_credit  credit_number      ratio  \n",
       "0            0.0           23.0  38.799483  \n",
       "1            8.0           21.0  45.464766  \n",
       "2            1.0           20.0  22.392612  \n",
       "3            2.0           26.0  34.471621  \n",
       "4            1.0           16.0  34.471621  "
      ]
     },
     "execution_count": 95,
     "metadata": {},
     "output_type": "execute_result"
    }
   ],
   "source": [
    "test = handleMissing(test)\n",
    "test.head()"
   ]
  },
  {
   "cell_type": "code",
   "execution_count": 96,
   "id": "ac2f8d87",
   "metadata": {},
   "outputs": [
    {
     "data": {
      "application/vnd.microsoft.datawrangler.viewer.v0+json": {
       "columns": [
        {
         "name": "index",
         "rawType": "object",
         "type": "string"
        },
        {
         "name": "0",
         "rawType": "int64",
         "type": "integer"
        }
       ],
       "ref": "142effcb-8850-4dc7-bdcf-5222b1c02299",
       "rows": [
        [
         "id",
         "0"
        ],
        [
         "loan_amount",
         "0"
        ],
        [
         "mortgage_amount",
         "5"
        ],
        [
         "property_value",
         "5"
        ],
        [
         "loan_reason",
         "0"
        ],
        [
         "occupation",
         "0"
        ],
        [
         "occupation_length",
         "0"
        ],
        [
         "derogatory_reports",
         "72"
        ],
        [
         "late_payments",
         "0"
        ],
        [
         "oldest_credit_line",
         "0"
        ],
        [
         "recent_credit",
         "0"
        ],
        [
         "credit_number",
         "0"
        ],
        [
         "ratio",
         "0"
        ]
       ],
       "shape": {
        "columns": 1,
        "rows": 13
       }
      },
      "text/plain": [
       "id                     0\n",
       "loan_amount            0\n",
       "mortgage_amount        5\n",
       "property_value         5\n",
       "loan_reason            0\n",
       "occupation             0\n",
       "occupation_length      0\n",
       "derogatory_reports    72\n",
       "late_payments          0\n",
       "oldest_credit_line     0\n",
       "recent_credit          0\n",
       "credit_number          0\n",
       "ratio                  0\n",
       "dtype: int64"
      ]
     },
     "execution_count": 96,
     "metadata": {},
     "output_type": "execute_result"
    }
   ],
   "source": [
    "test.isna().sum()"
   ]
  },
  {
   "cell_type": "code",
   "execution_count": 97,
   "id": "2f6ccf84",
   "metadata": {},
   "outputs": [],
   "source": [
    "median_values = test[['mortgage_amount', 'property_value', 'derogatory_reports',\n",
    "                    'late_payments', 'oldest_credit_line', 'recent_credit',\n",
    "                    'credit_number', 'ratio']].median()\n",
    "\n",
    "# Replace NaNs with the median value in each column\n",
    "test[['mortgage_amount', 'property_value', 'derogatory_reports',\n",
    "    'late_payments', 'oldest_credit_line', 'recent_credit',\n",
    "    'credit_number', 'ratio']] = test[['mortgage_amount', 'property_value', 'derogatory_reports',\n",
    "                                     'late_payments', 'oldest_credit_line', 'recent_credit',\n",
    "                                     'credit_number', 'ratio']].fillna(median_values)"
   ]
  },
  {
   "cell_type": "code",
   "execution_count": 98,
   "id": "bec96df9",
   "metadata": {},
   "outputs": [
    {
     "data": {
      "application/vnd.microsoft.datawrangler.viewer.v0+json": {
       "columns": [
        {
         "name": "index",
         "rawType": "int64",
         "type": "integer"
        },
        {
         "name": "id",
         "rawType": "int64",
         "type": "integer"
        },
        {
         "name": "loan_amount",
         "rawType": "float64",
         "type": "float"
        },
        {
         "name": "mortgage_amount",
         "rawType": "float64",
         "type": "float"
        },
        {
         "name": "property_value",
         "rawType": "float64",
         "type": "float"
        },
        {
         "name": "occupation_length",
         "rawType": "float64",
         "type": "float"
        },
        {
         "name": "derogatory_reports",
         "rawType": "float64",
         "type": "float"
        },
        {
         "name": "late_payments",
         "rawType": "float64",
         "type": "float"
        },
        {
         "name": "oldest_credit_line",
         "rawType": "float64",
         "type": "float"
        },
        {
         "name": "recent_credit",
         "rawType": "float64",
         "type": "float"
        },
        {
         "name": "credit_number",
         "rawType": "float64",
         "type": "float"
        },
        {
         "name": "ratio",
         "rawType": "float64",
         "type": "float"
        },
        {
         "name": "occupation_Mgr",
         "rawType": "float64",
         "type": "float"
        },
        {
         "name": "occupation_Office",
         "rawType": "float64",
         "type": "float"
        },
        {
         "name": "occupation_Other",
         "rawType": "float64",
         "type": "float"
        },
        {
         "name": "occupation_ProfExe",
         "rawType": "float64",
         "type": "float"
        },
        {
         "name": "occupation_Sales",
         "rawType": "float64",
         "type": "float"
        },
        {
         "name": "occupation_Self",
         "rawType": "float64",
         "type": "float"
        },
        {
         "name": "loan_reason_DebtCon",
         "rawType": "float64",
         "type": "float"
        },
        {
         "name": "loan_reason_HomeImp",
         "rawType": "float64",
         "type": "float"
        }
       ],
       "ref": "d68cf094-94ad-47bf-ab57-a95f15591c5f",
       "rows": [
        [
         "0",
         "12816",
         "0.975508867623686",
         "-0.7992237199277213",
         "-0.7598023923309994",
         "3.534627474690097",
         "-0.2958850125727613",
         "0.0",
         "1.2542665975110328",
         "0.0",
         "23.0",
         "0.6939122899764957",
         "0.0",
         "0.0",
         "1.0",
         "0.0",
         "0.0",
         "0.0",
         "1.0",
         "0.0"
        ],
        [
         "1",
         "11678",
         "-0.7188618375004225",
         "-0.2769389565276248",
         "-0.5622711588582718",
         "-0.9185887424829667",
         "-0.2958850125727613",
         "0.0",
         "-0.9674825045292029",
         "8.0",
         "21.0",
         "1.6084962619685934",
         "0.0",
         "0.0",
         "1.0",
         "0.0",
         "0.0",
         "0.0",
         "1.0",
         "0.0"
        ],
        [
         "2",
         "13568",
         "-0.6803534123839655",
         "-0.37015476252903295",
         "-0.41098604071405326",
         "-0.10891306663331872",
         "-0.2958850125727613",
         "6.0",
         "-0.11503360191378463",
         "1.0",
         "20.0",
         "-1.557374213026355",
         "0.0",
         "0.0",
         "1.0",
         "0.0",
         "0.0",
         "0.0",
         "0.0",
         "1.0"
        ],
        [
         "3",
         "16525",
         "3.0838451427497073",
         "-0.5622326407461742",
         "-0.6877710516558468",
         "0.4308707172664466",
         "-0.2958850125727613",
         "1.0",
         "-0.8800983891212603",
         "2.0",
         "26.0",
         "0.10006005678897126",
         "0.0",
         "1.0",
         "0.0",
         "0.0",
         "0.0",
         "0.0",
         "1.0",
         "0.0"
        ],
        [
         "4",
         "16160",
         "-1.00767502587385",
         "-1.080303772643043",
         "-1.2049232630685662",
         "1.5104382850659772",
         "-0.2958850125727613",
         "0.0",
         "0.03927946027868782",
         "1.0",
         "16.0",
         "0.10006005678897126",
         "0.0",
         "1.0",
         "0.0",
         "0.0",
         "0.0",
         "0.0",
         "0.0",
         "1.0"
        ]
       ],
       "shape": {
        "columns": 19,
        "rows": 5
       }
      },
      "text/html": [
       "<div>\n",
       "<style scoped>\n",
       "    .dataframe tbody tr th:only-of-type {\n",
       "        vertical-align: middle;\n",
       "    }\n",
       "\n",
       "    .dataframe tbody tr th {\n",
       "        vertical-align: top;\n",
       "    }\n",
       "\n",
       "    .dataframe thead th {\n",
       "        text-align: right;\n",
       "    }\n",
       "</style>\n",
       "<table border=\"1\" class=\"dataframe\">\n",
       "  <thead>\n",
       "    <tr style=\"text-align: right;\">\n",
       "      <th></th>\n",
       "      <th>id</th>\n",
       "      <th>loan_amount</th>\n",
       "      <th>mortgage_amount</th>\n",
       "      <th>property_value</th>\n",
       "      <th>occupation_length</th>\n",
       "      <th>derogatory_reports</th>\n",
       "      <th>late_payments</th>\n",
       "      <th>oldest_credit_line</th>\n",
       "      <th>recent_credit</th>\n",
       "      <th>credit_number</th>\n",
       "      <th>ratio</th>\n",
       "      <th>occupation_Mgr</th>\n",
       "      <th>occupation_Office</th>\n",
       "      <th>occupation_Other</th>\n",
       "      <th>occupation_ProfExe</th>\n",
       "      <th>occupation_Sales</th>\n",
       "      <th>occupation_Self</th>\n",
       "      <th>loan_reason_DebtCon</th>\n",
       "      <th>loan_reason_HomeImp</th>\n",
       "    </tr>\n",
       "  </thead>\n",
       "  <tbody>\n",
       "    <tr>\n",
       "      <th>0</th>\n",
       "      <td>12816</td>\n",
       "      <td>0.975509</td>\n",
       "      <td>-0.799224</td>\n",
       "      <td>-0.759802</td>\n",
       "      <td>3.534627</td>\n",
       "      <td>-0.295885</td>\n",
       "      <td>0.0</td>\n",
       "      <td>1.254267</td>\n",
       "      <td>0.0</td>\n",
       "      <td>23.0</td>\n",
       "      <td>0.693912</td>\n",
       "      <td>0.0</td>\n",
       "      <td>0.0</td>\n",
       "      <td>1.0</td>\n",
       "      <td>0.0</td>\n",
       "      <td>0.0</td>\n",
       "      <td>0.0</td>\n",
       "      <td>1.0</td>\n",
       "      <td>0.0</td>\n",
       "    </tr>\n",
       "    <tr>\n",
       "      <th>1</th>\n",
       "      <td>11678</td>\n",
       "      <td>-0.718862</td>\n",
       "      <td>-0.276939</td>\n",
       "      <td>-0.562271</td>\n",
       "      <td>-0.918589</td>\n",
       "      <td>-0.295885</td>\n",
       "      <td>0.0</td>\n",
       "      <td>-0.967483</td>\n",
       "      <td>8.0</td>\n",
       "      <td>21.0</td>\n",
       "      <td>1.608496</td>\n",
       "      <td>0.0</td>\n",
       "      <td>0.0</td>\n",
       "      <td>1.0</td>\n",
       "      <td>0.0</td>\n",
       "      <td>0.0</td>\n",
       "      <td>0.0</td>\n",
       "      <td>1.0</td>\n",
       "      <td>0.0</td>\n",
       "    </tr>\n",
       "    <tr>\n",
       "      <th>2</th>\n",
       "      <td>13568</td>\n",
       "      <td>-0.680353</td>\n",
       "      <td>-0.370155</td>\n",
       "      <td>-0.410986</td>\n",
       "      <td>-0.108913</td>\n",
       "      <td>-0.295885</td>\n",
       "      <td>6.0</td>\n",
       "      <td>-0.115034</td>\n",
       "      <td>1.0</td>\n",
       "      <td>20.0</td>\n",
       "      <td>-1.557374</td>\n",
       "      <td>0.0</td>\n",
       "      <td>0.0</td>\n",
       "      <td>1.0</td>\n",
       "      <td>0.0</td>\n",
       "      <td>0.0</td>\n",
       "      <td>0.0</td>\n",
       "      <td>0.0</td>\n",
       "      <td>1.0</td>\n",
       "    </tr>\n",
       "    <tr>\n",
       "      <th>3</th>\n",
       "      <td>16525</td>\n",
       "      <td>3.083845</td>\n",
       "      <td>-0.562233</td>\n",
       "      <td>-0.687771</td>\n",
       "      <td>0.430871</td>\n",
       "      <td>-0.295885</td>\n",
       "      <td>1.0</td>\n",
       "      <td>-0.880098</td>\n",
       "      <td>2.0</td>\n",
       "      <td>26.0</td>\n",
       "      <td>0.100060</td>\n",
       "      <td>0.0</td>\n",
       "      <td>1.0</td>\n",
       "      <td>0.0</td>\n",
       "      <td>0.0</td>\n",
       "      <td>0.0</td>\n",
       "      <td>0.0</td>\n",
       "      <td>1.0</td>\n",
       "      <td>0.0</td>\n",
       "    </tr>\n",
       "    <tr>\n",
       "      <th>4</th>\n",
       "      <td>16160</td>\n",
       "      <td>-1.007675</td>\n",
       "      <td>-1.080304</td>\n",
       "      <td>-1.204923</td>\n",
       "      <td>1.510438</td>\n",
       "      <td>-0.295885</td>\n",
       "      <td>0.0</td>\n",
       "      <td>0.039279</td>\n",
       "      <td>1.0</td>\n",
       "      <td>16.0</td>\n",
       "      <td>0.100060</td>\n",
       "      <td>0.0</td>\n",
       "      <td>1.0</td>\n",
       "      <td>0.0</td>\n",
       "      <td>0.0</td>\n",
       "      <td>0.0</td>\n",
       "      <td>0.0</td>\n",
       "      <td>0.0</td>\n",
       "      <td>1.0</td>\n",
       "    </tr>\n",
       "  </tbody>\n",
       "</table>\n",
       "</div>"
      ],
      "text/plain": [
       "      id  loan_amount  mortgage_amount  property_value  occupation_length  \\\n",
       "0  12816     0.975509        -0.799224       -0.759802           3.534627   \n",
       "1  11678    -0.718862        -0.276939       -0.562271          -0.918589   \n",
       "2  13568    -0.680353        -0.370155       -0.410986          -0.108913   \n",
       "3  16525     3.083845        -0.562233       -0.687771           0.430871   \n",
       "4  16160    -1.007675        -1.080304       -1.204923           1.510438   \n",
       "\n",
       "   derogatory_reports  late_payments  oldest_credit_line  recent_credit  \\\n",
       "0           -0.295885            0.0            1.254267            0.0   \n",
       "1           -0.295885            0.0           -0.967483            8.0   \n",
       "2           -0.295885            6.0           -0.115034            1.0   \n",
       "3           -0.295885            1.0           -0.880098            2.0   \n",
       "4           -0.295885            0.0            0.039279            1.0   \n",
       "\n",
       "   credit_number     ratio  occupation_Mgr  occupation_Office  \\\n",
       "0           23.0  0.693912             0.0                0.0   \n",
       "1           21.0  1.608496             0.0                0.0   \n",
       "2           20.0 -1.557374             0.0                0.0   \n",
       "3           26.0  0.100060             0.0                1.0   \n",
       "4           16.0  0.100060             0.0                1.0   \n",
       "\n",
       "   occupation_Other  occupation_ProfExe  occupation_Sales  occupation_Self  \\\n",
       "0               1.0                 0.0               0.0              0.0   \n",
       "1               1.0                 0.0               0.0              0.0   \n",
       "2               1.0                 0.0               0.0              0.0   \n",
       "3               0.0                 0.0               0.0              0.0   \n",
       "4               0.0                 0.0               0.0              0.0   \n",
       "\n",
       "   loan_reason_DebtCon  loan_reason_HomeImp  \n",
       "0                  1.0                  0.0  \n",
       "1                  1.0                  0.0  \n",
       "2                  0.0                  1.0  \n",
       "3                  1.0                  0.0  \n",
       "4                  0.0                  1.0  "
      ]
     },
     "execution_count": 98,
     "metadata": {},
     "output_type": "execute_result"
    }
   ],
   "source": [
    "# One-hot Encoding\n",
    "categorical_col = test[['occupation', 'loan_reason']]\n",
    "categorical_col_encoded = encoder.fit_transform(categorical_col)\n",
    "oneHot_test = pd.DataFrame(categorical_col_encoded, columns= encoder.get_feature_names_out(['occupation', 'loan_reason']))\n",
    "\n",
    "final_test_df = pd.concat([test, oneHot_test], axis=1)\n",
    "final_test_df = final_test_df.drop(columns=['loan_reason', 'occupation'])\n",
    "\n",
    "# Standardize\n",
    "cols_to_scale = ['loan_amount', 'mortgage_amount', 'property_value', 'oldest_credit_line','ratio', 'occupation_length', 'derogatory_reports']\n",
    "scaler = StandardScaler()\n",
    "final_test_df[cols_to_scale] = scaler.fit_transform(final_test_df[cols_to_scale])\n",
    "\n",
    "final_test_df.head()"
   ]
  },
  {
   "cell_type": "code",
   "execution_count": 99,
   "id": "b6e7a1da",
   "metadata": {},
   "outputs": [
    {
     "data": {
      "application/vnd.microsoft.datawrangler.viewer.v0+json": {
       "columns": [
        {
         "name": "index",
         "rawType": "int64",
         "type": "integer"
        },
        {
         "name": "loan_amount",
         "rawType": "float64",
         "type": "float"
        },
        {
         "name": "mortgage_amount",
         "rawType": "float64",
         "type": "float"
        },
        {
         "name": "property_value",
         "rawType": "float64",
         "type": "float"
        },
        {
         "name": "occupation_length",
         "rawType": "float64",
         "type": "float"
        },
        {
         "name": "derogatory_reports",
         "rawType": "float64",
         "type": "float"
        },
        {
         "name": "late_payments",
         "rawType": "float64",
         "type": "float"
        },
        {
         "name": "oldest_credit_line",
         "rawType": "float64",
         "type": "float"
        },
        {
         "name": "recent_credit",
         "rawType": "float64",
         "type": "float"
        },
        {
         "name": "credit_number",
         "rawType": "float64",
         "type": "float"
        },
        {
         "name": "ratio",
         "rawType": "float64",
         "type": "float"
        },
        {
         "name": "occupation_Mgr",
         "rawType": "float64",
         "type": "float"
        },
        {
         "name": "occupation_Office",
         "rawType": "float64",
         "type": "float"
        },
        {
         "name": "occupation_Other",
         "rawType": "float64",
         "type": "float"
        },
        {
         "name": "occupation_ProfExe",
         "rawType": "float64",
         "type": "float"
        },
        {
         "name": "occupation_Sales",
         "rawType": "float64",
         "type": "float"
        },
        {
         "name": "occupation_Self",
         "rawType": "float64",
         "type": "float"
        },
        {
         "name": "loan_reason_DebtCon",
         "rawType": "float64",
         "type": "float"
        },
        {
         "name": "loan_reason_HomeImp",
         "rawType": "float64",
         "type": "float"
        }
       ],
       "ref": "0f867ea6-c17b-47a4-a945-dc6fdde0d41b",
       "rows": [
        [
         "0",
         "0.975508867623686",
         "-0.7992237199277213",
         "-0.7598023923309994",
         "3.534627474690097",
         "-0.2958850125727613",
         "0.0",
         "1.2542665975110328",
         "0.0",
         "23.0",
         "0.6939122899764957",
         "0.0",
         "0.0",
         "1.0",
         "0.0",
         "0.0",
         "0.0",
         "1.0",
         "0.0"
        ],
        [
         "1",
         "-0.7188618375004225",
         "-0.2769389565276248",
         "-0.5622711588582718",
         "-0.9185887424829667",
         "-0.2958850125727613",
         "0.0",
         "-0.9674825045292029",
         "8.0",
         "21.0",
         "1.6084962619685934",
         "0.0",
         "0.0",
         "1.0",
         "0.0",
         "0.0",
         "0.0",
         "1.0",
         "0.0"
        ],
        [
         "2",
         "-0.6803534123839655",
         "-0.37015476252903295",
         "-0.41098604071405326",
         "-0.10891306663331872",
         "-0.2958850125727613",
         "6.0",
         "-0.11503360191378463",
         "1.0",
         "20.0",
         "-1.557374213026355",
         "0.0",
         "0.0",
         "1.0",
         "0.0",
         "0.0",
         "0.0",
         "0.0",
         "1.0"
        ],
        [
         "3",
         "3.0838451427497073",
         "-0.5622326407461742",
         "-0.6877710516558468",
         "0.4308707172664466",
         "-0.2958850125727613",
         "1.0",
         "-0.8800983891212603",
         "2.0",
         "26.0",
         "0.10006005678897126",
         "0.0",
         "1.0",
         "0.0",
         "0.0",
         "0.0",
         "0.0",
         "1.0",
         "0.0"
        ],
        [
         "4",
         "-1.00767502587385",
         "-1.080303772643043",
         "-1.2049232630685662",
         "1.5104382850659772",
         "-0.2958850125727613",
         "0.0",
         "0.03927946027868782",
         "1.0",
         "16.0",
         "0.10006005678897126",
         "0.0",
         "1.0",
         "0.0",
         "0.0",
         "0.0",
         "0.0",
         "0.0",
         "1.0"
        ],
        [
         "5",
         "0.6578143604129157",
         "0.23260214086270947",
         "0.07730859473367642",
         "-0.10891306663331872",
         "-0.2958850125727613",
         "0.0",
         "1.337074177088474",
         "2.0",
         "28.0",
         "-0.3822729924831187",
         "1.0",
         "0.0",
         "0.0",
         "0.0",
         "0.0",
         "0.0",
         "1.0",
         "0.0"
        ],
        [
         "6",
         "-1.0750647698276499",
         "1.3483101000173983",
         "0.9417972820728296",
         "0.2959247712915053",
         "-0.2958850125727613",
         "0.0",
         "0.4164198305258604",
         "1.0",
         "18.0",
         "-1.764229931554634",
         "0.0",
         "0.0",
         "0.0",
         "1.0",
         "0.0",
         "0.0",
         "0.0",
         "1.0"
        ],
        [
         "7",
         "-0.2856420549402811",
         "-1.0966444411555607",
         "0.9944615539286693",
         "-0.24385901260826007",
         "-0.2958850125727613",
         "0.0",
         "1.3523604156573772",
         "0.0",
         "27.0",
         "0.10006005678897126",
         "0.0",
         "0.0",
         "0.0",
         "0.0",
         "0.0",
         "1.0",
         "0.0",
         "1.0"
        ],
        [
         "8",
         "0.03205245227048925",
         "1.0204690147662554",
         "1.7521739930762943",
         "-0.9185887424829667",
         "-0.2958850125727613",
         "0.0",
         "0.12049678454293969",
         "0.0",
         "16.0",
         "-0.9443080524618145",
         "0.0",
         "0.0",
         "1.0",
         "0.0",
         "0.0",
         "0.0",
         "1.0",
         "0.0"
        ],
        [
         "9",
         "-0.45892996796433766",
         "-0.026402593635701275",
         "-0.2164145586223502",
         "-0.7836427965080254",
         "-0.2958850125727613",
         "0.0",
         "0.6499913095834318",
         "2.0",
         "25.0",
         "-0.6419348730633769",
         "0.0",
         "0.0",
         "1.0",
         "0.0",
         "0.0",
         "0.0",
         "1.0",
         "0.0"
        ],
        [
         "10",
         "-1.0750647698276499",
         "1.3840745820447957",
         "0.9378884799772375",
         "0.4308707172664466",
         "-0.2958850125727613",
         "0.0",
         "0.29128826143626685",
         "0.0",
         "19.0",
         "-1.9771517038695487",
         "0.0",
         "0.0",
         "0.0",
         "1.0",
         "0.0",
         "0.0",
         "0.0",
         "1.0"
        ],
        [
         "11",
         "5.846824644855499",
         "-0.99876486448058",
         "0.019947326120993456",
         "2.185168014940684",
         "-0.2958850125727613",
         "0.0",
         "-0.39202994067235675",
         "0.0",
         "13.0",
         "0.07653859432130432",
         "0.0",
         "0.0",
         "0.0",
         "0.0",
         "0.0",
         "1.0",
         "0.0",
         "1.0"
        ],
        [
         "12",
         "-0.7862515814542222",
         "-0.1752773886497469",
         "-0.5765873476034451",
         "-0.3788049585832014",
         "-0.2958850125727613",
         "0.0",
         "-0.5455338080635886",
         "0.0",
         "34.0",
         "0.5277047401141433",
         "0.0",
         "0.0",
         "1.0",
         "0.0",
         "0.0",
         "0.0",
         "0.0",
         "1.0"
        ],
        [
         "13",
         "-0.6707263061048512",
         "-0.34351433427862493",
         "-0.5799170679070977",
         "-0.5137509045581428",
         "-0.2958850125727613",
         "0.0",
         "1.5605614653617603",
         "0.0",
         "10.0",
         "-0.0607561657236689",
         "0.0",
         "0.0",
         "1.0",
         "0.0",
         "0.0",
         "0.0",
         "1.0",
         "0.0"
        ],
        [
         "14",
         "-1.1135731949441068",
         "-0.6508833367140852",
         "-0.8057428811582071",
         "0.026032879341622614",
         "-0.2958850125727613",
         "6.0",
         "-0.04965739982617349",
         "1.0",
         "19.0",
         "-1.0457849159233585",
         "0.0",
         "1.0",
         "0.0",
         "0.0",
         "0.0",
         "0.0",
         "0.0",
         "1.0"
        ],
        [
         "15",
         "-0.1604896733117958",
         "-0.23539871619580288",
         "-0.29798466325917444",
         "-0.10891306663331872",
         "-0.2958850125727613",
         "0.0",
         "1.1328116436667233",
         "0.0",
         "20.0",
         "-0.8018362684489053",
         "0.0",
         "0.0",
         "1.0",
         "0.0",
         "0.0",
         "0.0",
         "0.0",
         "1.0"
        ],
        [
         "16",
         "-1.1713358326187924",
         "-0.8953972897013952",
         "-0.8834846117260974",
         "-0.7836427965080254",
         "-0.2958850125727613",
         "0.0",
         "-1.0925536038078385",
         "1.0",
         "13.0",
         "-0.48774830770712196",
         "1.0",
         "0.0",
         "0.0",
         "0.0",
         "0.0",
         "0.0",
         "1.0",
         "0.0"
        ],
        [
         "17",
         "-0.03533729168331052",
         "-0.8664157266791939",
         "-0.9709420479143075",
         "1.375492339091036",
         "-0.2958850125727613",
         "0.0",
         "-1.0271561494939174",
         "1.0",
         "16.0",
         "-1.345741160377788",
         "1.0",
         "0.0",
         "0.0",
         "0.0",
         "0.0",
         "0.0",
         "1.0",
         "0.0"
        ],
        [
         "18",
         "-0.930658175640936",
         "-0.3558880228881038",
         "-0.20036112450135815",
         "1.2405463931160947",
         "-0.2958850125727613",
         "0.0",
         "-0.09831768360310003",
         "0.0",
         "28.0",
         "-1.0257711210478964",
         "0.0",
         "0.0",
         "1.0",
         "0.0",
         "0.0",
         "0.0",
         "0.0",
         "1.0"
        ],
        [
         "19",
         "-0.06421861052065328",
         "-0.638694636804748",
         "-0.5700405062334614",
         "-0.648696850533084",
         "-0.2958850125727613",
         "0.0",
         "-0.8930864234163272",
         "2.0",
         "9.0",
         "-0.7912524220058502",
         "0.0",
         "0.0",
         "0.0",
         "0.0",
         "1.0",
         "0.0",
         "1.0",
         "0.0"
        ],
        [
         "20",
         "-0.06421861052065328",
         "-0.41615323053427",
         "-0.6051714682777966",
         "-0.648696850533084",
         "-0.2958850125727613",
         "0.0",
         "-0.7418356647048103",
         "0.0",
         "17.0",
         "-0.20463302177476644",
         "0.0",
         "1.0",
         "0.0",
         "0.0",
         "0.0",
         "0.0",
         "0.0",
         "1.0"
        ],
        [
         "21",
         "-0.7188618375004225",
         "-0.9079559670110158",
         "-0.23772798568679354",
         "1.78033017701586",
         "-0.2958850125727613",
         "0.0",
         "0.5379090995770267",
         "0.0",
         "10.0",
         "-1.0962734984478069",
         "0.0",
         "0.0",
         "0.0",
         "1.0",
         "0.0",
         "0.0",
         "0.0",
         "1.0"
        ],
        [
         "22",
         "1.014017292740143",
         "-0.4499856083601873",
         "-0.29605439061937583",
         "1.6453842310409186",
         "-0.2958850125727613",
         "0.0",
         "0.3090294014324697",
         "0.0",
         "26.0",
         "0.4884011929440208",
         "0.0",
         "0.0",
         "1.0",
         "0.0",
         "0.0",
         "0.0",
         "1.0",
         "0.0"
        ],
        [
         "23",
         "1.1487967806477426",
         "3.2711237578903707",
         "3.097590108621279",
         "0.8357085551912706",
         "-0.2958850125727613",
         "1.0",
         "0.7565454037972205",
         "2.0",
         "26.0",
         "-0.7988368594942643",
         "0.0",
         "0.0",
         "0.0",
         "1.0",
         "0.0",
         "0.0",
         "1.0",
         "0.0"
        ],
        [
         "24",
         "0.25347589669011705",
         "-1.1084467202246018",
         "-1.236386707097284",
         "-0.7836427965080254",
         "-0.2958850125727613",
         "0.0",
         "-1.0082185390159697",
         "0.0",
         "18.0",
         "-1.606639130026196",
         "0.0",
         "0.0",
         "0.0",
         "1.0",
         "0.0",
         "0.0",
         "1.0",
         "0.0"
        ],
        [
         "25",
         "0.003171133433146494",
         "0.6915796602143095",
         "1.137945153487035",
         "-0.3788049585832014",
         "-0.2958850125727613",
         "0.0",
         "0.4101271421976739",
         "4.0",
         "24.0",
         "0.10006005678897126",
         "0.0",
         "1.0",
         "0.0",
         "0.0",
         "0.0",
         "0.0",
         "1.0",
         "0.0"
        ],
        [
         "26",
         "-0.8728955379662505",
         "0.825038730216546",
         "0.5056360935049949",
         "-0.3788049585832014",
         "-0.2958850125727613",
         "0.0",
         "-0.25047535511121277",
         "0.0",
         "19.0",
         "0.08627367425890771",
         "0.0",
         "0.0",
         "0.0",
         "0.0",
         "0.0",
         "1.0",
         "1.0",
         "0.0"
        ],
        [
         "27",
         "0.7252041043667155",
         "0.2654273579878553",
         "0.2585933668214322",
         "0.4308707172664466",
         "-0.2958850125727613",
         "1.0",
         "-0.6450171980008592",
         "0.0",
         "18.0",
         "-0.8605160332519647",
         "0.0",
         "0.0",
         "0.0",
         "1.0",
         "0.0",
         "0.0",
         "1.0",
         "0.0"
        ],
        [
         "28",
         "1.0428986115774859",
         "-0.822600125335629",
         "-0.9168139859732872",
         "0.16097882531656396",
         "-0.2958850125727613",
         "0.0",
         "-1.0766373240402498",
         "1.0",
         "14.0",
         "-1.4957571158215412",
         "0.0",
         "0.0",
         "1.0",
         "0.0",
         "0.0",
         "0.0",
         "1.0",
         "0.0"
        ],
        [
         "29",
         "-0.5744552433137087",
         "-1.3062160841161032",
         "-0.5849036055599108",
         "-0.10891306663331872",
         "1.2022171773305217",
         "0.0",
         "1.8252095572770204",
         "0.0",
         "21.0",
         "-2.322532782867902",
         "0.0",
         "0.0",
         "1.0",
         "0.0",
         "0.0",
         "0.0",
         "0.0",
         "1.0"
        ],
        [
         "30",
         "-0.03533729168331052",
         "0.7199651485360542",
         "0.5263060963561721",
         "-1.1884806344328493",
         "-0.2958850125727613",
         "0.0",
         "1.238524783624873",
         "0.0",
         "47.0",
         "0.6640233106887954",
         "0.0",
         "0.0",
         "1.0",
         "0.0",
         "0.0",
         "0.0",
         "1.0",
         "0.0"
        ],
        [
         "31",
         "0.27273010924834556",
         "-0.1559974552349775",
         "-0.07507034457309467",
         "-1.053534688457908",
         "-0.2958850125727613",
         "0.0",
         "-1.3141795415465904",
         "0.0",
         "23.0",
         "0.11763030297635987",
         "0.0",
         "1.0",
         "0.0",
         "0.0",
         "0.0",
         "0.0",
         "1.0",
         "0.0"
        ],
        [
         "32",
         "0.705949891808487",
         "-0.3075032006510386",
         "-0.2436153172381794",
         "-0.3788049585832014",
         "-0.2958850125727613",
         "0.0",
         "0.8412176873528056",
         "1.0",
         "25.0",
         "-0.07526715822301007",
         "1.0",
         "0.0",
         "0.0",
         "0.0",
         "0.0",
         "0.0",
         "1.0",
         "0.0"
        ],
        [
         "33",
         "2.486964553444624",
         "-0.6890074523832902",
         "-0.7674591404688674",
         "-0.10891306663331872",
         "3.4493704621854464",
         "0.0",
         "-0.7628240070850861",
         "1.0",
         "19.0",
         "-0.5138056982140234",
         "0.0",
         "0.0",
         "1.0",
         "0.0",
         "0.0",
         "0.0",
         "1.0",
         "0.0"
        ],
        [
         "34",
         "-0.42042154284788064",
         "-1.0918758435519078",
         "-0.41595649276153474",
         "1.375492339091036",
         "-0.2958850125727613",
         "2.0",
         "2.402851368736975",
         "0.0",
         "12.0",
         "-1.7126639448655538",
         "0.0",
         "0.0",
         "0.0",
         "1.0",
         "0.0",
         "0.0",
         "1.0",
         "0.0"
        ],
        [
         "35",
         "0.6193059352964587",
         "0.5033639349701267",
         "0.3477719627801294",
         "-0.9185887424829667",
         "-0.2958850125727613",
         "0.0",
         "0.22002261589609728",
         "1.0",
         "26.0",
         "-0.11511572215927675",
         "0.0",
         "0.0",
         "0.0",
         "0.0",
         "0.0",
         "1.0",
         "1.0",
         "0.0"
        ],
        [
         "36",
         "-0.11235414191622455",
         "-1.1335599639838398",
         "-1.189947564504795",
         "-1.053534688457908",
         "7.194625936943653",
         "0.0",
         "0.09395291645023231",
         "0.0",
         "9.0",
         "-0.9050113825614323",
         "0.0",
         "0.0",
         "1.0",
         "0.0",
         "0.0",
         "0.0",
         "0.0",
         "1.0"
        ],
        [
         "37",
         "0.9562546550654576",
         "0.04679126872036893",
         "0.08042920216801756",
         "0.2959247712915053",
         "-0.2958850125727613",
         "0.0",
         "1.1134073115394307",
         "1.0",
         "32.0",
         "0.6207885119573866",
         "0.0",
         "0.0",
         "0.0",
         "1.0",
         "0.0",
         "0.0",
         "1.0",
         "0.0"
        ],
        [
         "38",
         "-0.4974383930807947",
         "-0.3535859412863403",
         "-0.28839764248150784",
         "0.5658166632413879",
         "-0.2958850125727613",
         "0.0",
         "-0.552083210722489",
         "0.0",
         "16.0",
         "-1.4085201991996386",
         "0.0",
         "0.0",
         "1.0",
         "0.0",
         "0.0",
         "0.0",
         "1.0",
         "0.0"
        ],
        [
         "39",
         "-0.4685570742434519",
         "-0.2736708228251213",
         "-0.534024835895885",
         "2.7249517988404492",
         "0.45316608237888023",
         "2.0",
         "0.030948407302249858",
         "1.0",
         "23.0",
         "0.49465614249767803",
         "0.0",
         "0.0",
         "1.0",
         "0.0",
         "0.0",
         "0.0",
         "0.0",
         "1.0"
        ],
        [
         "40",
         "-0.34340469261496664",
         "0.12358213357919462",
         "0.45961517665112905",
         "0.7007626092163293",
         "-0.2958850125727613",
         "1.0",
         "1.1403954780096175",
         "1.0",
         "18.0",
         "-0.7643970884559721",
         "0.0",
         "0.0",
         "0.0",
         "1.0",
         "0.0",
         "0.0",
         "1.0",
         "0.0"
        ],
        [
         "41",
         "0.35937406576037384",
         "-0.9530932098455932",
         "-0.15216865092771875",
         "2.320113960915625",
         "-0.2958850125727613",
         "6.0",
         "0.6224942530965991",
         "1.0",
         "20.0",
         "-2.3800464374295283",
         "0.0",
         "0.0",
         "1.0",
         "0.0",
         "0.0",
         "0.0",
         "1.0",
         "0.0"
        ],
        [
         "42",
         "-0.7669973688959938",
         "-1.0130295486915075",
         "-0.8389757417734071",
         "-1.0670292830554022",
         "-0.2958850125727613",
         "0.0",
         "0.7242049000175751",
         "0.0",
         "11.0",
         "0.10006005678897126",
         "0.0",
         "0.0",
         "1.0",
         "0.0",
         "0.0",
         "0.0",
         "0.0",
         "1.0"
        ],
        [
         "43",
         "-0.8536413254080221",
         "0.1441980964949875",
         "-0.15694607571122038",
         "-1.1614914452378613",
         "-0.2958850125727613",
         "0.0",
         "-0.013804104423267438",
         "3.0",
         "35.0",
         "0.10006005678897126",
         "0.0",
         "0.0",
         "0.0",
         "0.0",
         "1.0",
         "0.0",
         "1.0",
         "0.0"
        ],
        [
         "44",
         "0.4652722348306306",
         "-0.13760135672088517",
         "-0.09159026124870472",
         "-0.10891306663331872",
         "-0.2958850125727613",
         "0.0",
         "0.2099757870941019",
         "2.0",
         "18.0",
         "-0.30195544486623105",
         "1.0",
         "0.0",
         "0.0",
         "0.0",
         "0.0",
         "0.0",
         "1.0",
         "0.0"
        ],
        [
         "45",
         "-0.5648281370345944",
         "-0.43685141065012584",
         "-0.5685767161482806",
         "-0.7836427965080254",
         "-0.2958850125727613",
         "0.0",
         "-0.06714721457938706",
         "0.0",
         "14.0",
         "-0.7126731331312922",
         "0.0",
         "0.0",
         "1.0",
         "0.0",
         "0.0",
         "0.0",
         "1.0",
         "0.0"
        ],
        [
         "46",
         "1.1102883555312857",
         "-0.4372830509504565",
         "-0.34640233530745707",
         "-1.053534688457908",
         "-0.2958850125727613",
         "0.0",
         "-0.3770197156276588",
         "2.0",
         "19.0",
         "0.6032864367749091",
         "0.0",
         "1.0",
         "0.0",
         "0.0",
         "0.0",
         "0.0",
         "1.0",
         "0.0"
        ],
        [
         "47",
         "-0.3530317988940809",
         "-0.565809088948914",
         "-0.5025131350511722",
         "-1.1884806344328493",
         "-0.2958850125727613",
         "0.0",
         "0.8626454897648195",
         "0.0",
         "20.0",
         "-0.6726980024584716",
         "0.0",
         "0.0",
         "1.0",
         "0.0",
         "0.0",
         "0.0",
         "1.0",
         "0.0"
        ],
        [
         "48",
         "-0.7092347312213082",
         "0.2372063040662365",
         "0.36356802721581494",
         "-0.24385901260826007",
         "-0.2958850125727613",
         "6.0",
         "-0.11503360191378463",
         "1.0",
         "20.0",
         "0.9033592407974533",
         "0.0",
         "0.0",
         "1.0",
         "0.0",
         "0.0",
         "0.0",
         "0.0",
         "1.0"
        ],
        [
         "49",
         "0.6770685729711442",
         "-0.4999120030984335",
         "-0.4150074420469671",
         "0.026032879341622614",
         "-0.2958850125727613",
         "7.0",
         "0.8558063691747596",
         "3.0",
         "22.0",
         "0.9667654764656634",
         "0.0",
         "0.0",
         "1.0",
         "0.0",
         "0.0",
         "0.0",
         "1.0",
         "0.0"
        ]
       ],
       "shape": {
        "columns": 18,
        "rows": 762
       }
      },
      "text/html": [
       "<div>\n",
       "<style scoped>\n",
       "    .dataframe tbody tr th:only-of-type {\n",
       "        vertical-align: middle;\n",
       "    }\n",
       "\n",
       "    .dataframe tbody tr th {\n",
       "        vertical-align: top;\n",
       "    }\n",
       "\n",
       "    .dataframe thead th {\n",
       "        text-align: right;\n",
       "    }\n",
       "</style>\n",
       "<table border=\"1\" class=\"dataframe\">\n",
       "  <thead>\n",
       "    <tr style=\"text-align: right;\">\n",
       "      <th></th>\n",
       "      <th>loan_amount</th>\n",
       "      <th>mortgage_amount</th>\n",
       "      <th>property_value</th>\n",
       "      <th>occupation_length</th>\n",
       "      <th>derogatory_reports</th>\n",
       "      <th>late_payments</th>\n",
       "      <th>oldest_credit_line</th>\n",
       "      <th>recent_credit</th>\n",
       "      <th>credit_number</th>\n",
       "      <th>ratio</th>\n",
       "      <th>occupation_Mgr</th>\n",
       "      <th>occupation_Office</th>\n",
       "      <th>occupation_Other</th>\n",
       "      <th>occupation_ProfExe</th>\n",
       "      <th>occupation_Sales</th>\n",
       "      <th>occupation_Self</th>\n",
       "      <th>loan_reason_DebtCon</th>\n",
       "      <th>loan_reason_HomeImp</th>\n",
       "    </tr>\n",
       "  </thead>\n",
       "  <tbody>\n",
       "    <tr>\n",
       "      <th>0</th>\n",
       "      <td>0.975509</td>\n",
       "      <td>-0.799224</td>\n",
       "      <td>-0.759802</td>\n",
       "      <td>3.534627</td>\n",
       "      <td>-0.295885</td>\n",
       "      <td>0.0</td>\n",
       "      <td>1.254267</td>\n",
       "      <td>0.0</td>\n",
       "      <td>23.0</td>\n",
       "      <td>0.693912</td>\n",
       "      <td>0.0</td>\n",
       "      <td>0.0</td>\n",
       "      <td>1.0</td>\n",
       "      <td>0.0</td>\n",
       "      <td>0.0</td>\n",
       "      <td>0.0</td>\n",
       "      <td>1.0</td>\n",
       "      <td>0.0</td>\n",
       "    </tr>\n",
       "    <tr>\n",
       "      <th>1</th>\n",
       "      <td>-0.718862</td>\n",
       "      <td>-0.276939</td>\n",
       "      <td>-0.562271</td>\n",
       "      <td>-0.918589</td>\n",
       "      <td>-0.295885</td>\n",
       "      <td>0.0</td>\n",
       "      <td>-0.967483</td>\n",
       "      <td>8.0</td>\n",
       "      <td>21.0</td>\n",
       "      <td>1.608496</td>\n",
       "      <td>0.0</td>\n",
       "      <td>0.0</td>\n",
       "      <td>1.0</td>\n",
       "      <td>0.0</td>\n",
       "      <td>0.0</td>\n",
       "      <td>0.0</td>\n",
       "      <td>1.0</td>\n",
       "      <td>0.0</td>\n",
       "    </tr>\n",
       "    <tr>\n",
       "      <th>2</th>\n",
       "      <td>-0.680353</td>\n",
       "      <td>-0.370155</td>\n",
       "      <td>-0.410986</td>\n",
       "      <td>-0.108913</td>\n",
       "      <td>-0.295885</td>\n",
       "      <td>6.0</td>\n",
       "      <td>-0.115034</td>\n",
       "      <td>1.0</td>\n",
       "      <td>20.0</td>\n",
       "      <td>-1.557374</td>\n",
       "      <td>0.0</td>\n",
       "      <td>0.0</td>\n",
       "      <td>1.0</td>\n",
       "      <td>0.0</td>\n",
       "      <td>0.0</td>\n",
       "      <td>0.0</td>\n",
       "      <td>0.0</td>\n",
       "      <td>1.0</td>\n",
       "    </tr>\n",
       "    <tr>\n",
       "      <th>3</th>\n",
       "      <td>3.083845</td>\n",
       "      <td>-0.562233</td>\n",
       "      <td>-0.687771</td>\n",
       "      <td>0.430871</td>\n",
       "      <td>-0.295885</td>\n",
       "      <td>1.0</td>\n",
       "      <td>-0.880098</td>\n",
       "      <td>2.0</td>\n",
       "      <td>26.0</td>\n",
       "      <td>0.100060</td>\n",
       "      <td>0.0</td>\n",
       "      <td>1.0</td>\n",
       "      <td>0.0</td>\n",
       "      <td>0.0</td>\n",
       "      <td>0.0</td>\n",
       "      <td>0.0</td>\n",
       "      <td>1.0</td>\n",
       "      <td>0.0</td>\n",
       "    </tr>\n",
       "    <tr>\n",
       "      <th>4</th>\n",
       "      <td>-1.007675</td>\n",
       "      <td>-1.080304</td>\n",
       "      <td>-1.204923</td>\n",
       "      <td>1.510438</td>\n",
       "      <td>-0.295885</td>\n",
       "      <td>0.0</td>\n",
       "      <td>0.039279</td>\n",
       "      <td>1.0</td>\n",
       "      <td>16.0</td>\n",
       "      <td>0.100060</td>\n",
       "      <td>0.0</td>\n",
       "      <td>1.0</td>\n",
       "      <td>0.0</td>\n",
       "      <td>0.0</td>\n",
       "      <td>0.0</td>\n",
       "      <td>0.0</td>\n",
       "      <td>0.0</td>\n",
       "      <td>1.0</td>\n",
       "    </tr>\n",
       "    <tr>\n",
       "      <th>...</th>\n",
       "      <td>...</td>\n",
       "      <td>...</td>\n",
       "      <td>...</td>\n",
       "      <td>...</td>\n",
       "      <td>...</td>\n",
       "      <td>...</td>\n",
       "      <td>...</td>\n",
       "      <td>...</td>\n",
       "      <td>...</td>\n",
       "      <td>...</td>\n",
       "      <td>...</td>\n",
       "      <td>...</td>\n",
       "      <td>...</td>\n",
       "      <td>...</td>\n",
       "      <td>...</td>\n",
       "      <td>...</td>\n",
       "      <td>...</td>\n",
       "      <td>...</td>\n",
       "    </tr>\n",
       "    <tr>\n",
       "      <th>757</th>\n",
       "      <td>0.677069</td>\n",
       "      <td>0.218831</td>\n",
       "      <td>0.427364</td>\n",
       "      <td>-0.243859</td>\n",
       "      <td>-0.295885</td>\n",
       "      <td>1.0</td>\n",
       "      <td>-1.901588</td>\n",
       "      <td>1.0</td>\n",
       "      <td>41.0</td>\n",
       "      <td>0.100060</td>\n",
       "      <td>1.0</td>\n",
       "      <td>0.0</td>\n",
       "      <td>0.0</td>\n",
       "      <td>0.0</td>\n",
       "      <td>0.0</td>\n",
       "      <td>0.0</td>\n",
       "      <td>1.0</td>\n",
       "      <td>0.0</td>\n",
       "    </tr>\n",
       "    <tr>\n",
       "      <th>758</th>\n",
       "      <td>0.523035</td>\n",
       "      <td>0.367356</td>\n",
       "      <td>0.287081</td>\n",
       "      <td>-0.783643</td>\n",
       "      <td>-0.295885</td>\n",
       "      <td>0.0</td>\n",
       "      <td>0.437938</td>\n",
       "      <td>1.0</td>\n",
       "      <td>26.0</td>\n",
       "      <td>0.111666</td>\n",
       "      <td>0.0</td>\n",
       "      <td>0.0</td>\n",
       "      <td>0.0</td>\n",
       "      <td>0.0</td>\n",
       "      <td>0.0</td>\n",
       "      <td>1.0</td>\n",
       "      <td>1.0</td>\n",
       "      <td>0.0</td>\n",
       "    </tr>\n",
       "    <tr>\n",
       "      <th>759</th>\n",
       "      <td>-0.256761</td>\n",
       "      <td>-1.027109</td>\n",
       "      <td>-1.017848</td>\n",
       "      <td>1.510438</td>\n",
       "      <td>-0.295885</td>\n",
       "      <td>1.0</td>\n",
       "      <td>0.005734</td>\n",
       "      <td>4.0</td>\n",
       "      <td>31.0</td>\n",
       "      <td>0.100060</td>\n",
       "      <td>1.0</td>\n",
       "      <td>0.0</td>\n",
       "      <td>0.0</td>\n",
       "      <td>0.0</td>\n",
       "      <td>0.0</td>\n",
       "      <td>0.0</td>\n",
       "      <td>0.0</td>\n",
       "      <td>1.0</td>\n",
       "    </tr>\n",
       "    <tr>\n",
       "      <th>760</th>\n",
       "      <td>-0.959539</td>\n",
       "      <td>0.107838</td>\n",
       "      <td>-0.092604</td>\n",
       "      <td>-0.918589</td>\n",
       "      <td>-0.295885</td>\n",
       "      <td>0.0</td>\n",
       "      <td>-1.205972</td>\n",
       "      <td>2.0</td>\n",
       "      <td>24.0</td>\n",
       "      <td>0.100060</td>\n",
       "      <td>1.0</td>\n",
       "      <td>0.0</td>\n",
       "      <td>0.0</td>\n",
       "      <td>0.0</td>\n",
       "      <td>0.0</td>\n",
       "      <td>0.0</td>\n",
       "      <td>1.0</td>\n",
       "      <td>0.0</td>\n",
       "    </tr>\n",
       "    <tr>\n",
       "      <th>761</th>\n",
       "      <td>-0.314523</td>\n",
       "      <td>-0.906825</td>\n",
       "      <td>-1.007842</td>\n",
       "      <td>-0.108913</td>\n",
       "      <td>-0.295885</td>\n",
       "      <td>0.0</td>\n",
       "      <td>-1.223805</td>\n",
       "      <td>2.0</td>\n",
       "      <td>11.0</td>\n",
       "      <td>-0.629919</td>\n",
       "      <td>0.0</td>\n",
       "      <td>0.0</td>\n",
       "      <td>1.0</td>\n",
       "      <td>0.0</td>\n",
       "      <td>0.0</td>\n",
       "      <td>0.0</td>\n",
       "      <td>0.0</td>\n",
       "      <td>1.0</td>\n",
       "    </tr>\n",
       "  </tbody>\n",
       "</table>\n",
       "<p>762 rows × 18 columns</p>\n",
       "</div>"
      ],
      "text/plain": [
       "     loan_amount  mortgage_amount  property_value  occupation_length  \\\n",
       "0       0.975509        -0.799224       -0.759802           3.534627   \n",
       "1      -0.718862        -0.276939       -0.562271          -0.918589   \n",
       "2      -0.680353        -0.370155       -0.410986          -0.108913   \n",
       "3       3.083845        -0.562233       -0.687771           0.430871   \n",
       "4      -1.007675        -1.080304       -1.204923           1.510438   \n",
       "..           ...              ...             ...                ...   \n",
       "757     0.677069         0.218831        0.427364          -0.243859   \n",
       "758     0.523035         0.367356        0.287081          -0.783643   \n",
       "759    -0.256761        -1.027109       -1.017848           1.510438   \n",
       "760    -0.959539         0.107838       -0.092604          -0.918589   \n",
       "761    -0.314523        -0.906825       -1.007842          -0.108913   \n",
       "\n",
       "     derogatory_reports  late_payments  oldest_credit_line  recent_credit  \\\n",
       "0             -0.295885            0.0            1.254267            0.0   \n",
       "1             -0.295885            0.0           -0.967483            8.0   \n",
       "2             -0.295885            6.0           -0.115034            1.0   \n",
       "3             -0.295885            1.0           -0.880098            2.0   \n",
       "4             -0.295885            0.0            0.039279            1.0   \n",
       "..                  ...            ...                 ...            ...   \n",
       "757           -0.295885            1.0           -1.901588            1.0   \n",
       "758           -0.295885            0.0            0.437938            1.0   \n",
       "759           -0.295885            1.0            0.005734            4.0   \n",
       "760           -0.295885            0.0           -1.205972            2.0   \n",
       "761           -0.295885            0.0           -1.223805            2.0   \n",
       "\n",
       "     credit_number     ratio  occupation_Mgr  occupation_Office  \\\n",
       "0             23.0  0.693912             0.0                0.0   \n",
       "1             21.0  1.608496             0.0                0.0   \n",
       "2             20.0 -1.557374             0.0                0.0   \n",
       "3             26.0  0.100060             0.0                1.0   \n",
       "4             16.0  0.100060             0.0                1.0   \n",
       "..             ...       ...             ...                ...   \n",
       "757           41.0  0.100060             1.0                0.0   \n",
       "758           26.0  0.111666             0.0                0.0   \n",
       "759           31.0  0.100060             1.0                0.0   \n",
       "760           24.0  0.100060             1.0                0.0   \n",
       "761           11.0 -0.629919             0.0                0.0   \n",
       "\n",
       "     occupation_Other  occupation_ProfExe  occupation_Sales  occupation_Self  \\\n",
       "0                 1.0                 0.0               0.0              0.0   \n",
       "1                 1.0                 0.0               0.0              0.0   \n",
       "2                 1.0                 0.0               0.0              0.0   \n",
       "3                 0.0                 0.0               0.0              0.0   \n",
       "4                 0.0                 0.0               0.0              0.0   \n",
       "..                ...                 ...               ...              ...   \n",
       "757               0.0                 0.0               0.0              0.0   \n",
       "758               0.0                 0.0               0.0              1.0   \n",
       "759               0.0                 0.0               0.0              0.0   \n",
       "760               0.0                 0.0               0.0              0.0   \n",
       "761               1.0                 0.0               0.0              0.0   \n",
       "\n",
       "     loan_reason_DebtCon  loan_reason_HomeImp  \n",
       "0                    1.0                  0.0  \n",
       "1                    1.0                  0.0  \n",
       "2                    0.0                  1.0  \n",
       "3                    1.0                  0.0  \n",
       "4                    0.0                  1.0  \n",
       "..                   ...                  ...  \n",
       "757                  1.0                  0.0  \n",
       "758                  1.0                  0.0  \n",
       "759                  0.0                  1.0  \n",
       "760                  1.0                  0.0  \n",
       "761                  0.0                  1.0  \n",
       "\n",
       "[762 rows x 18 columns]"
      ]
     },
     "execution_count": 99,
     "metadata": {},
     "output_type": "execute_result"
    }
   ],
   "source": [
    "pred_final_test_df = final_test_df.drop(['id'], axis = 1)\n",
    "pred_final_test_df"
   ]
  },
  {
   "cell_type": "code",
   "execution_count": 101,
   "id": "9e67e297",
   "metadata": {},
   "outputs": [],
   "source": [
    "y_pred = model.predict(pred_final_test_df)"
   ]
  },
  {
   "cell_type": "code",
   "execution_count": 111,
   "id": "1518e36a",
   "metadata": {},
   "outputs": [
    {
     "name": "stdout",
     "output_type": "stream",
     "text": [
      "        id  default\n",
      "0    12816        0\n",
      "1    11678        1\n",
      "2    13568        0\n",
      "3    16525        0\n",
      "4    16160        0\n",
      "..     ...      ...\n",
      "757  16196        1\n",
      "758  16461        0\n",
      "759  16619        1\n",
      "760  12593        0\n",
      "761  16388        0\n",
      "\n",
      "[762 rows x 2 columns]\n"
     ]
    }
   ],
   "source": [
    "predicted_df = pd.DataFrame({\n",
    "     'id': final_test_df.iloc[:,0],\n",
    "     'default': y_pred\n",
    "})\n",
    "\n",
    "print(predicted_df)"
   ]
  },
  {
   "cell_type": "code",
   "execution_count": 112,
   "id": "0ba85c2c",
   "metadata": {},
   "outputs": [],
   "source": [
    "predicted_df.to_csv('submission.csv', index=False)"
   ]
  }
 ],
 "metadata": {
  "kernelspec": {
   "display_name": "base",
   "language": "python",
   "name": "python3"
  },
  "language_info": {
   "codemirror_mode": {
    "name": "ipython",
    "version": 3
   },
   "file_extension": ".py",
   "mimetype": "text/x-python",
   "name": "python",
   "nbconvert_exporter": "python",
   "pygments_lexer": "ipython3",
   "version": "3.12.4"
  }
 },
 "nbformat": 4,
 "nbformat_minor": 5
}
